{
 "cells": [
  {
   "cell_type": "code",
   "execution_count": 61,
   "id": "ccba9fbb-648d-4a25-83bb-1cdcbd4c2c2f",
   "metadata": {},
   "outputs": [],
   "source": [
    "import pandas as pd"
   ]
  },
  {
   "cell_type": "code",
   "execution_count": 62,
   "id": "8b28b680-c463-450a-9deb-e3eb93f97e30",
   "metadata": {
    "tags": []
   },
   "outputs": [],
   "source": [
    "data = pd.read_excel('TOTAL drc.xlsx')"
   ]
  },
  {
   "cell_type": "code",
   "execution_count": 63,
   "id": "28154257-3110-405d-a582-d4b045d4aa3d",
   "metadata": {
    "tags": []
   },
   "outputs": [
    {
     "data": {
      "text/html": [
       "<div>\n",
       "<style scoped>\n",
       "    .dataframe tbody tr th:only-of-type {\n",
       "        vertical-align: middle;\n",
       "    }\n",
       "\n",
       "    .dataframe tbody tr th {\n",
       "        vertical-align: top;\n",
       "    }\n",
       "\n",
       "    .dataframe thead th {\n",
       "        text-align: right;\n",
       "    }\n",
       "</style>\n",
       "<table border=\"1\" class=\"dataframe\">\n",
       "  <thead>\n",
       "    <tr style=\"text-align: right;\">\n",
       "      <th></th>\n",
       "      <th>V0001</th>\n",
       "      <th>V0026</th>\n",
       "      <th>V0031</th>\n",
       "      <th>A005010</th>\n",
       "      <th>A009010</th>\n",
       "      <th>A01501</th>\n",
       "      <th>C006</th>\n",
       "      <th>C008</th>\n",
       "      <th>C009</th>\n",
       "      <th>I00102</th>\n",
       "      <th>...</th>\n",
       "      <th>S083</th>\n",
       "      <th>T004</th>\n",
       "      <th>T005</th>\n",
       "      <th>Y001</th>\n",
       "      <th>Y00101</th>\n",
       "      <th>Y002</th>\n",
       "      <th>Y003</th>\n",
       "      <th>Y004</th>\n",
       "      <th>H001</th>\n",
       "      <th>VDR001</th>\n",
       "    </tr>\n",
       "  </thead>\n",
       "  <tbody>\n",
       "    <tr>\n",
       "      <th>0</th>\n",
       "      <td>11</td>\n",
       "      <td>1</td>\n",
       "      <td>1</td>\n",
       "      <td>2</td>\n",
       "      <td>1</td>\n",
       "      <td>3.0</td>\n",
       "      <td>1</td>\n",
       "      <td>61</td>\n",
       "      <td>1</td>\n",
       "      <td>2</td>\n",
       "      <td>...</td>\n",
       "      <td>NaN</td>\n",
       "      <td>2</td>\n",
       "      <td>NaN</td>\n",
       "      <td>4.0</td>\n",
       "      <td>NaN</td>\n",
       "      <td>3.0</td>\n",
       "      <td>NaN</td>\n",
       "      <td>NaN</td>\n",
       "      <td>4.0</td>\n",
       "      <td>NaN</td>\n",
       "    </tr>\n",
       "    <tr>\n",
       "      <th>1</th>\n",
       "      <td>11</td>\n",
       "      <td>1</td>\n",
       "      <td>1</td>\n",
       "      <td>1</td>\n",
       "      <td>1</td>\n",
       "      <td>1.0</td>\n",
       "      <td>2</td>\n",
       "      <td>57</td>\n",
       "      <td>4</td>\n",
       "      <td>2</td>\n",
       "      <td>...</td>\n",
       "      <td>NaN</td>\n",
       "      <td>2</td>\n",
       "      <td>NaN</td>\n",
       "      <td>3.0</td>\n",
       "      <td>NaN</td>\n",
       "      <td>3.0</td>\n",
       "      <td>NaN</td>\n",
       "      <td>NaN</td>\n",
       "      <td>4.0</td>\n",
       "      <td>NaN</td>\n",
       "    </tr>\n",
       "    <tr>\n",
       "      <th>2</th>\n",
       "      <td>11</td>\n",
       "      <td>1</td>\n",
       "      <td>1</td>\n",
       "      <td>2</td>\n",
       "      <td>5</td>\n",
       "      <td>4.0</td>\n",
       "      <td>2</td>\n",
       "      <td>21</td>\n",
       "      <td>4</td>\n",
       "      <td>1</td>\n",
       "      <td>...</td>\n",
       "      <td>NaN</td>\n",
       "      <td>2</td>\n",
       "      <td>NaN</td>\n",
       "      <td>1.0</td>\n",
       "      <td>16.0</td>\n",
       "      <td>1.0</td>\n",
       "      <td>2.0</td>\n",
       "      <td>1.0</td>\n",
       "      <td>1.0</td>\n",
       "      <td>6.0</td>\n",
       "    </tr>\n",
       "    <tr>\n",
       "      <th>3</th>\n",
       "      <td>11</td>\n",
       "      <td>1</td>\n",
       "      <td>1</td>\n",
       "      <td>2</td>\n",
       "      <td>1</td>\n",
       "      <td>3.0</td>\n",
       "      <td>2</td>\n",
       "      <td>41</td>\n",
       "      <td>2</td>\n",
       "      <td>2</td>\n",
       "      <td>...</td>\n",
       "      <td>NaN</td>\n",
       "      <td>2</td>\n",
       "      <td>NaN</td>\n",
       "      <td>4.0</td>\n",
       "      <td>NaN</td>\n",
       "      <td>1.0</td>\n",
       "      <td>3.0</td>\n",
       "      <td>NaN</td>\n",
       "      <td>3.0</td>\n",
       "      <td>NaN</td>\n",
       "    </tr>\n",
       "    <tr>\n",
       "      <th>4</th>\n",
       "      <td>11</td>\n",
       "      <td>1</td>\n",
       "      <td>1</td>\n",
       "      <td>2</td>\n",
       "      <td>1</td>\n",
       "      <td>3.0</td>\n",
       "      <td>1</td>\n",
       "      <td>51</td>\n",
       "      <td>2</td>\n",
       "      <td>2</td>\n",
       "      <td>...</td>\n",
       "      <td>NaN</td>\n",
       "      <td>2</td>\n",
       "      <td>NaN</td>\n",
       "      <td>4.0</td>\n",
       "      <td>NaN</td>\n",
       "      <td>2.0</td>\n",
       "      <td>NaN</td>\n",
       "      <td>NaN</td>\n",
       "      <td>2.0</td>\n",
       "      <td>NaN</td>\n",
       "    </tr>\n",
       "    <tr>\n",
       "      <th>...</th>\n",
       "      <td>...</td>\n",
       "      <td>...</td>\n",
       "      <td>...</td>\n",
       "      <td>...</td>\n",
       "      <td>...</td>\n",
       "      <td>...</td>\n",
       "      <td>...</td>\n",
       "      <td>...</td>\n",
       "      <td>...</td>\n",
       "      <td>...</td>\n",
       "      <td>...</td>\n",
       "      <td>...</td>\n",
       "      <td>...</td>\n",
       "      <td>...</td>\n",
       "      <td>...</td>\n",
       "      <td>...</td>\n",
       "      <td>...</td>\n",
       "      <td>...</td>\n",
       "      <td>...</td>\n",
       "      <td>...</td>\n",
       "      <td>...</td>\n",
       "    </tr>\n",
       "    <tr>\n",
       "      <th>2569</th>\n",
       "      <td>53</td>\n",
       "      <td>1</td>\n",
       "      <td>1</td>\n",
       "      <td>1</td>\n",
       "      <td>1</td>\n",
       "      <td>1.0</td>\n",
       "      <td>2</td>\n",
       "      <td>62</td>\n",
       "      <td>4</td>\n",
       "      <td>2</td>\n",
       "      <td>...</td>\n",
       "      <td>NaN</td>\n",
       "      <td>2</td>\n",
       "      <td>NaN</td>\n",
       "      <td>3.0</td>\n",
       "      <td>NaN</td>\n",
       "      <td>2.0</td>\n",
       "      <td>NaN</td>\n",
       "      <td>NaN</td>\n",
       "      <td>1.0</td>\n",
       "      <td>NaN</td>\n",
       "    </tr>\n",
       "    <tr>\n",
       "      <th>2570</th>\n",
       "      <td>53</td>\n",
       "      <td>1</td>\n",
       "      <td>1</td>\n",
       "      <td>1</td>\n",
       "      <td>1</td>\n",
       "      <td>1.0</td>\n",
       "      <td>2</td>\n",
       "      <td>69</td>\n",
       "      <td>4</td>\n",
       "      <td>2</td>\n",
       "      <td>...</td>\n",
       "      <td>NaN</td>\n",
       "      <td>2</td>\n",
       "      <td>NaN</td>\n",
       "      <td>3.0</td>\n",
       "      <td>NaN</td>\n",
       "      <td>1.0</td>\n",
       "      <td>3.0</td>\n",
       "      <td>NaN</td>\n",
       "      <td>1.0</td>\n",
       "      <td>NaN</td>\n",
       "    </tr>\n",
       "    <tr>\n",
       "      <th>2571</th>\n",
       "      <td>53</td>\n",
       "      <td>1</td>\n",
       "      <td>1</td>\n",
       "      <td>1</td>\n",
       "      <td>6</td>\n",
       "      <td>1.0</td>\n",
       "      <td>2</td>\n",
       "      <td>49</td>\n",
       "      <td>4</td>\n",
       "      <td>2</td>\n",
       "      <td>...</td>\n",
       "      <td>NaN</td>\n",
       "      <td>2</td>\n",
       "      <td>NaN</td>\n",
       "      <td>1.0</td>\n",
       "      <td>17.0</td>\n",
       "      <td>2.0</td>\n",
       "      <td>NaN</td>\n",
       "      <td>NaN</td>\n",
       "      <td>3.0</td>\n",
       "      <td>NaN</td>\n",
       "    </tr>\n",
       "    <tr>\n",
       "      <th>2572</th>\n",
       "      <td>53</td>\n",
       "      <td>1</td>\n",
       "      <td>1</td>\n",
       "      <td>1</td>\n",
       "      <td>1</td>\n",
       "      <td>1.0</td>\n",
       "      <td>1</td>\n",
       "      <td>37</td>\n",
       "      <td>4</td>\n",
       "      <td>1</td>\n",
       "      <td>...</td>\n",
       "      <td>NaN</td>\n",
       "      <td>2</td>\n",
       "      <td>NaN</td>\n",
       "      <td>1.0</td>\n",
       "      <td>11.0</td>\n",
       "      <td>1.0</td>\n",
       "      <td>3.0</td>\n",
       "      <td>NaN</td>\n",
       "      <td>4.0</td>\n",
       "      <td>NaN</td>\n",
       "    </tr>\n",
       "    <tr>\n",
       "      <th>2573</th>\n",
       "      <td>53</td>\n",
       "      <td>1</td>\n",
       "      <td>1</td>\n",
       "      <td>1</td>\n",
       "      <td>1</td>\n",
       "      <td>3.0</td>\n",
       "      <td>1</td>\n",
       "      <td>74</td>\n",
       "      <td>1</td>\n",
       "      <td>2</td>\n",
       "      <td>...</td>\n",
       "      <td>NaN</td>\n",
       "      <td>2</td>\n",
       "      <td>NaN</td>\n",
       "      <td>3.0</td>\n",
       "      <td>NaN</td>\n",
       "      <td>2.0</td>\n",
       "      <td>NaN</td>\n",
       "      <td>NaN</td>\n",
       "      <td>2.0</td>\n",
       "      <td>NaN</td>\n",
       "    </tr>\n",
       "  </tbody>\n",
       "</table>\n",
       "<p>2574 rows × 66 columns</p>\n",
       "</div>"
      ],
      "text/plain": [
       "      V0001  V0026  V0031  A005010  A009010  A01501  C006  C008  C009  I00102  \\\n",
       "0        11      1      1        2        1     3.0     1    61     1       2   \n",
       "1        11      1      1        1        1     1.0     2    57     4       2   \n",
       "2        11      1      1        2        5     4.0     2    21     4       1   \n",
       "3        11      1      1        2        1     3.0     2    41     2       2   \n",
       "4        11      1      1        2        1     3.0     1    51     2       2   \n",
       "...     ...    ...    ...      ...      ...     ...   ...   ...   ...     ...   \n",
       "2569     53      1      1        1        1     1.0     2    62     4       2   \n",
       "2570     53      1      1        1        1     1.0     2    69     4       2   \n",
       "2571     53      1      1        1        6     1.0     2    49     4       2   \n",
       "2572     53      1      1        1        1     1.0     1    37     4       1   \n",
       "2573     53      1      1        1        1     3.0     1    74     1       2   \n",
       "\n",
       "      ...  S083  T004  T005  Y001  Y00101  Y002  Y003  Y004  H001  VDR001  \n",
       "0     ...   NaN     2   NaN   4.0     NaN   3.0   NaN   NaN   4.0     NaN  \n",
       "1     ...   NaN     2   NaN   3.0     NaN   3.0   NaN   NaN   4.0     NaN  \n",
       "2     ...   NaN     2   NaN   1.0    16.0   1.0   2.0   1.0   1.0     6.0  \n",
       "3     ...   NaN     2   NaN   4.0     NaN   1.0   3.0   NaN   3.0     NaN  \n",
       "4     ...   NaN     2   NaN   4.0     NaN   2.0   NaN   NaN   2.0     NaN  \n",
       "...   ...   ...   ...   ...   ...     ...   ...   ...   ...   ...     ...  \n",
       "2569  ...   NaN     2   NaN   3.0     NaN   2.0   NaN   NaN   1.0     NaN  \n",
       "2570  ...   NaN     2   NaN   3.0     NaN   1.0   3.0   NaN   1.0     NaN  \n",
       "2571  ...   NaN     2   NaN   1.0    17.0   2.0   NaN   NaN   3.0     NaN  \n",
       "2572  ...   NaN     2   NaN   1.0    11.0   1.0   3.0   NaN   4.0     NaN  \n",
       "2573  ...   NaN     2   NaN   3.0     NaN   2.0   NaN   NaN   2.0     NaN  \n",
       "\n",
       "[2574 rows x 66 columns]"
      ]
     },
     "execution_count": 63,
     "metadata": {},
     "output_type": "execute_result"
    }
   ],
   "source": [
    "data"
   ]
  },
  {
   "cell_type": "code",
   "execution_count": 64,
   "id": "033649a4-837f-4903-b47a-c16ce87b49fe",
   "metadata": {
    "tags": []
   },
   "outputs": [
    {
     "data": {
      "text/plain": [
       "(2574, 66)"
      ]
     },
     "execution_count": 64,
     "metadata": {},
     "output_type": "execute_result"
    }
   ],
   "source": [
    "data.shape"
   ]
  },
  {
   "cell_type": "code",
   "execution_count": 65,
   "id": "c27873f3-b8bf-4ff9-9500-b9770da4b8e8",
   "metadata": {
    "tags": []
   },
   "outputs": [
    {
     "name": "stdout",
     "output_type": "stream",
     "text": [
      "V0001      27\n",
      "V0026       2\n",
      "V0031       4\n",
      "A005010     6\n",
      "A009010     6\n",
      "           ..\n",
      "Y002        3\n",
      "Y003        4\n",
      "Y004        5\n",
      "H001        5\n",
      "VDR001      8\n",
      "Length: 66, dtype: int64\n"
     ]
    }
   ],
   "source": [
    "print(data.nunique())"
   ]
  },
  {
   "cell_type": "code",
   "execution_count": 66,
   "id": "b38e22b8-6aa2-40a6-878d-4720db8c1377",
   "metadata": {
    "tags": []
   },
   "outputs": [
    {
     "data": {
      "text/plain": [
       "V0001        int64\n",
       "V0026        int64\n",
       "V0031        int64\n",
       "A005010      int64\n",
       "A009010      int64\n",
       "            ...   \n",
       "Y002       float64\n",
       "Y003       float64\n",
       "Y004       float64\n",
       "H001       float64\n",
       "VDR001     float64\n",
       "Length: 66, dtype: object"
      ]
     },
     "execution_count": 66,
     "metadata": {},
     "output_type": "execute_result"
    }
   ],
   "source": [
    "data.dtypes"
   ]
  },
  {
   "cell_type": "code",
   "execution_count": 67,
   "id": "201ef719-b6cd-4be9-ac52-de1671781155",
   "metadata": {
    "tags": []
   },
   "outputs": [
    {
     "name": "stdout",
     "output_type": "stream",
     "text": [
      "Coluna \"A01501\" tem 15 valores vazios.\n",
      "Coluna \"J012\" tem 438 valores vazios.\n",
      "Coluna \"N004\" tem 114 valores vazios.\n",
      "Coluna \"N005\" tem 114 valores vazios.\n",
      "Coluna \"P00104\" tem 20 valores vazios.\n",
      "Coluna \"P00404\" tem 20 valores vazios.\n",
      "Coluna \"P02801\" tem 2066 valores vazios.\n",
      "Coluna \"P029\" tem 1782 valores vazios.\n",
      "Coluna \"P03201\" tem 1782 valores vazios.\n",
      "Coluna \"P03202\" tem 2248 valores vazios.\n",
      "Coluna \"P035\" tem 1627 valores vazios.\n",
      "Coluna \"P036\" tem 1670 valores vazios.\n",
      "Coluna \"P038\" tem 1210 valores vazios.\n",
      "Coluna \"P051\" tem 2543 valores vazios.\n",
      "Coluna \"P052\" tem 316 valores vazios.\n",
      "Coluna \"P053\" tem 1622 valores vazios.\n",
      "Coluna \"P05401\" tem 2258 valores vazios.\n",
      "Coluna \"P05402\" tem 2369 valores vazios.\n",
      "Coluna \"Q00201\" tem 33 valores vazios.\n",
      "Coluna \"Q003\" tem 1668 valores vazios.\n",
      "Coluna \"Q03001\" tem 153 valores vazios.\n",
      "Coluna \"Q031\" tem 2232 valores vazios.\n",
      "Coluna \"Q064\" tem 2278 valores vazios.\n",
      "Coluna \"S082\" tem 2515 valores vazios.\n",
      "Coluna \"S083\" tem 2574 valores vazios.\n",
      "Coluna \"T005\" tem 2559 valores vazios.\n",
      "Coluna \"Y001\" tem 44 valores vazios.\n",
      "Coluna \"Y00101\" tem 565 valores vazios.\n",
      "Coluna \"Y002\" tem 71 valores vazios.\n",
      "Coluna \"Y003\" tem 894 valores vazios.\n",
      "Coluna \"Y004\" tem 1893 valores vazios.\n",
      "Coluna \"H001\" tem 44 valores vazios.\n",
      "Coluna \"VDR001\" tem 2140 valores vazios.\n"
     ]
    }
   ],
   "source": [
    "colunas_com_nulos = data.columns[data.isna().sum() > 0]\n",
    "\n",
    "# Iterar sobre essas colunas e imprimir as informações apenas se o número de nulos for maior que zero\n",
    "for coluna in colunas_com_nulos:\n",
    "    num_nulos = data[coluna].isna().sum()\n",
    "    print(f'Coluna \"{coluna}\" tem {num_nulos} valores vazios.')"
   ]
  },
  {
   "cell_type": "code",
   "execution_count": 68,
   "id": "11b1e101-d15f-4478-a5aa-335c644c390b",
   "metadata": {
    "tags": []
   },
   "outputs": [
    {
     "name": "stdout",
     "output_type": "stream",
     "text": [
      "V0001      category\n",
      "V0026      category\n",
      "V0031      category\n",
      "A005010    category\n",
      "A009010    category\n",
      "             ...   \n",
      "Y002       category\n",
      "Y003       category\n",
      "Y004       category\n",
      "H001       category\n",
      "VDR001     category\n",
      "Length: 66, dtype: object\n"
     ]
    }
   ],
   "source": [
    "data = data.astype('category')\n",
    "\n",
    "colunas_nume = [\n",
    "    'P00102', 'P00404', 'P00104', 'C008', 'J012', 'P00104', 'P00404', 'P02801', 'P029', 'P03202', 'P035',\n",
    "    'P053', 'P05402', 'Q003', 'Q031', 'Q064', 'Y00101'\n",
    "]\n",
    "\n",
    "\n",
    "for coluna in colunas_nume:\n",
    "    try:\n",
    "        data[coluna] = pd.to_numeric(data[coluna], errors='coerce')\n",
    "    except ValueError:\n",
    "        print(f\"A coluna {coluna} contém valores não numéricos e não pode ser convertida.\")\n",
    "\n",
    "print(data.dtypes)"
   ]
  },
  {
   "cell_type": "code",
   "execution_count": 69,
   "id": "f3a379aa-605e-4a08-80d8-0a545c2e56ca",
   "metadata": {
    "tags": []
   },
   "outputs": [
    {
     "data": {
      "text/html": [
       "<div>\n",
       "<style scoped>\n",
       "    .dataframe tbody tr th:only-of-type {\n",
       "        vertical-align: middle;\n",
       "    }\n",
       "\n",
       "    .dataframe tbody tr th {\n",
       "        vertical-align: top;\n",
       "    }\n",
       "\n",
       "    .dataframe thead th {\n",
       "        text-align: right;\n",
       "    }\n",
       "</style>\n",
       "<table border=\"1\" class=\"dataframe\">\n",
       "  <thead>\n",
       "    <tr style=\"text-align: right;\">\n",
       "      <th></th>\n",
       "      <th>V0001</th>\n",
       "      <th>V0026</th>\n",
       "      <th>V0031</th>\n",
       "      <th>A005010</th>\n",
       "      <th>A009010</th>\n",
       "      <th>A01501</th>\n",
       "      <th>C006</th>\n",
       "      <th>C008</th>\n",
       "      <th>C009</th>\n",
       "      <th>I00102</th>\n",
       "      <th>...</th>\n",
       "      <th>S083</th>\n",
       "      <th>T004</th>\n",
       "      <th>T005</th>\n",
       "      <th>Y001</th>\n",
       "      <th>Y00101</th>\n",
       "      <th>Y002</th>\n",
       "      <th>Y003</th>\n",
       "      <th>Y004</th>\n",
       "      <th>H001</th>\n",
       "      <th>VDR001</th>\n",
       "    </tr>\n",
       "  </thead>\n",
       "  <tbody>\n",
       "  </tbody>\n",
       "</table>\n",
       "<p>0 rows × 66 columns</p>\n",
       "</div>"
      ],
      "text/plain": [
       "Empty DataFrame\n",
       "Columns: [V0001, V0026, V0031, A005010, A009010, A01501, C006, C008, C009, I00102, J01101, J012, M01601, N001, N00101, N004, N005, N010, N011, N012, N013, N014, N015, N016, P00102, P00104, P00404, P02601, P027, P02801, P029, P03201, P03202, P034, P035, P036, P038, P04501, P04502, P050, P051, P052, P053, P05401, P05402, P06701, Q00101, Q00201, Q074, Q124, Q003, Q03001, Q031, Q06306, Q064, S082, S083, T004, T005, Y001, Y00101, Y002, Y003, Y004, H001, VDR001]\n",
       "Index: []\n",
       "\n",
       "[0 rows x 66 columns]"
      ]
     },
     "execution_count": 69,
     "metadata": {},
     "output_type": "execute_result"
    }
   ],
   "source": [
    "data[data.duplicated(keep=False)]"
   ]
  },
  {
   "cell_type": "code",
   "execution_count": 70,
   "id": "f5e9fccc-f8e2-4554-bedd-1bdb1f9e26d2",
   "metadata": {
    "tags": []
   },
   "outputs": [
    {
     "data": {
      "text/plain": [
       "Index(['V0001', 'V0026', 'V0031', 'A005010', 'A009010', 'A01501', 'C006',\n",
       "       'C008', 'C009', 'I00102', 'J01101', 'J012', 'M01601', 'N001', 'N00101',\n",
       "       'N004', 'N005', 'N010', 'N011', 'N012', 'N013', 'N014', 'N015', 'N016',\n",
       "       'P00102', 'P00104', 'P00404', 'P02601', 'P027', 'P02801', 'P029',\n",
       "       'P03201', 'P03202', 'P034', 'P035', 'P036', 'P038', 'P04501', 'P04502',\n",
       "       'P050', 'P051', 'P052', 'P053', 'P05401', 'P05402', 'P06701', 'Q00101',\n",
       "       'Q00201', 'Q074', 'Q124', 'Q003', 'Q03001', 'Q031', 'Q06306', 'Q064',\n",
       "       'S082', 'S083', 'T004', 'T005', 'Y001', 'Y00101', 'Y002', 'Y003',\n",
       "       'Y004', 'H001', 'VDR001'],\n",
       "      dtype='object')"
      ]
     },
     "execution_count": 70,
     "metadata": {},
     "output_type": "execute_result"
    }
   ],
   "source": [
    "data.columns"
   ]
  },
  {
   "cell_type": "code",
   "execution_count": 71,
   "id": "843e4bce-d512-4973-b1a7-e1541b918025",
   "metadata": {
    "tags": []
   },
   "outputs": [
    {
     "data": {
      "text/html": [
       "<div>\n",
       "<style scoped>\n",
       "    .dataframe tbody tr th:only-of-type {\n",
       "        vertical-align: middle;\n",
       "    }\n",
       "\n",
       "    .dataframe tbody tr th {\n",
       "        vertical-align: top;\n",
       "    }\n",
       "\n",
       "    .dataframe thead th {\n",
       "        text-align: right;\n",
       "    }\n",
       "</style>\n",
       "<table border=\"1\" class=\"dataframe\">\n",
       "  <thead>\n",
       "    <tr style=\"text-align: right;\">\n",
       "      <th></th>\n",
       "      <th>Estado</th>\n",
       "      <th>local</th>\n",
       "      <th>tipo_cidade</th>\n",
       "      <th>abast_agua</th>\n",
       "      <th>agua_usada</th>\n",
       "      <th>esgoto</th>\n",
       "      <th>Sexo</th>\n",
       "      <th>idade</th>\n",
       "      <th>raca</th>\n",
       "      <th>plano_saude</th>\n",
       "      <th>...</th>\n",
       "      <th>trat_sifilis</th>\n",
       "      <th>diag_ist</th>\n",
       "      <th>tratamento_ist</th>\n",
       "      <th>idade_sex_mor</th>\n",
       "      <th>idade_sex</th>\n",
       "      <th>relac_sex_12mes</th>\n",
       "      <th>freq_uso_camis</th>\n",
       "      <th>uso_camis_12meses</th>\n",
       "      <th>ultima_vez_medico</th>\n",
       "      <th>Metodo_contraceptivo</th>\n",
       "    </tr>\n",
       "  </thead>\n",
       "  <tbody>\n",
       "    <tr>\n",
       "      <th>0</th>\n",
       "      <td>11</td>\n",
       "      <td>1</td>\n",
       "      <td>1</td>\n",
       "      <td>2</td>\n",
       "      <td>1</td>\n",
       "      <td>3.0</td>\n",
       "      <td>1</td>\n",
       "      <td>61</td>\n",
       "      <td>1</td>\n",
       "      <td>2</td>\n",
       "      <td>...</td>\n",
       "      <td>NaN</td>\n",
       "      <td>2</td>\n",
       "      <td>NaN</td>\n",
       "      <td>4.0</td>\n",
       "      <td>NaN</td>\n",
       "      <td>3.0</td>\n",
       "      <td>NaN</td>\n",
       "      <td>NaN</td>\n",
       "      <td>4.0</td>\n",
       "      <td>NaN</td>\n",
       "    </tr>\n",
       "    <tr>\n",
       "      <th>1</th>\n",
       "      <td>11</td>\n",
       "      <td>1</td>\n",
       "      <td>1</td>\n",
       "      <td>1</td>\n",
       "      <td>1</td>\n",
       "      <td>1.0</td>\n",
       "      <td>2</td>\n",
       "      <td>57</td>\n",
       "      <td>4</td>\n",
       "      <td>2</td>\n",
       "      <td>...</td>\n",
       "      <td>NaN</td>\n",
       "      <td>2</td>\n",
       "      <td>NaN</td>\n",
       "      <td>3.0</td>\n",
       "      <td>NaN</td>\n",
       "      <td>3.0</td>\n",
       "      <td>NaN</td>\n",
       "      <td>NaN</td>\n",
       "      <td>4.0</td>\n",
       "      <td>NaN</td>\n",
       "    </tr>\n",
       "    <tr>\n",
       "      <th>2</th>\n",
       "      <td>11</td>\n",
       "      <td>1</td>\n",
       "      <td>1</td>\n",
       "      <td>2</td>\n",
       "      <td>5</td>\n",
       "      <td>4.0</td>\n",
       "      <td>2</td>\n",
       "      <td>21</td>\n",
       "      <td>4</td>\n",
       "      <td>1</td>\n",
       "      <td>...</td>\n",
       "      <td>NaN</td>\n",
       "      <td>2</td>\n",
       "      <td>NaN</td>\n",
       "      <td>1.0</td>\n",
       "      <td>16.0</td>\n",
       "      <td>1.0</td>\n",
       "      <td>2.0</td>\n",
       "      <td>1.0</td>\n",
       "      <td>1.0</td>\n",
       "      <td>6.0</td>\n",
       "    </tr>\n",
       "    <tr>\n",
       "      <th>3</th>\n",
       "      <td>11</td>\n",
       "      <td>1</td>\n",
       "      <td>1</td>\n",
       "      <td>2</td>\n",
       "      <td>1</td>\n",
       "      <td>3.0</td>\n",
       "      <td>2</td>\n",
       "      <td>41</td>\n",
       "      <td>2</td>\n",
       "      <td>2</td>\n",
       "      <td>...</td>\n",
       "      <td>NaN</td>\n",
       "      <td>2</td>\n",
       "      <td>NaN</td>\n",
       "      <td>4.0</td>\n",
       "      <td>NaN</td>\n",
       "      <td>1.0</td>\n",
       "      <td>3.0</td>\n",
       "      <td>NaN</td>\n",
       "      <td>3.0</td>\n",
       "      <td>NaN</td>\n",
       "    </tr>\n",
       "    <tr>\n",
       "      <th>4</th>\n",
       "      <td>11</td>\n",
       "      <td>1</td>\n",
       "      <td>1</td>\n",
       "      <td>2</td>\n",
       "      <td>1</td>\n",
       "      <td>3.0</td>\n",
       "      <td>1</td>\n",
       "      <td>51</td>\n",
       "      <td>2</td>\n",
       "      <td>2</td>\n",
       "      <td>...</td>\n",
       "      <td>NaN</td>\n",
       "      <td>2</td>\n",
       "      <td>NaN</td>\n",
       "      <td>4.0</td>\n",
       "      <td>NaN</td>\n",
       "      <td>2.0</td>\n",
       "      <td>NaN</td>\n",
       "      <td>NaN</td>\n",
       "      <td>2.0</td>\n",
       "      <td>NaN</td>\n",
       "    </tr>\n",
       "  </tbody>\n",
       "</table>\n",
       "<p>5 rows × 66 columns</p>\n",
       "</div>"
      ],
      "text/plain": [
       "  Estado local tipo_cidade abast_agua agua_usada esgoto Sexo  idade raca  \\\n",
       "0     11     1           1          2          1    3.0    1     61    1   \n",
       "1     11     1           1          1          1    1.0    2     57    4   \n",
       "2     11     1           1          2          5    4.0    2     21    4   \n",
       "3     11     1           1          2          1    3.0    2     41    2   \n",
       "4     11     1           1          2          1    3.0    1     51    2   \n",
       "\n",
       "  plano_saude  ... trat_sifilis  diag_ist tratamento_ist idade_sex_mor  \\\n",
       "0           2  ...          NaN         2            NaN           4.0   \n",
       "1           2  ...          NaN         2            NaN           3.0   \n",
       "2           1  ...          NaN         2            NaN           1.0   \n",
       "3           2  ...          NaN         2            NaN           4.0   \n",
       "4           2  ...          NaN         2            NaN           4.0   \n",
       "\n",
       "  idade_sex relac_sex_12mes freq_uso_camis uso_camis_12meses  \\\n",
       "0       NaN             3.0            NaN               NaN   \n",
       "1       NaN             3.0            NaN               NaN   \n",
       "2      16.0             1.0            2.0               1.0   \n",
       "3       NaN             1.0            3.0               NaN   \n",
       "4       NaN             2.0            NaN               NaN   \n",
       "\n",
       "  ultima_vez_medico Metodo_contraceptivo  \n",
       "0               4.0                  NaN  \n",
       "1               4.0                  NaN  \n",
       "2               1.0                  6.0  \n",
       "3               3.0                  NaN  \n",
       "4               2.0                  NaN  \n",
       "\n",
       "[5 rows x 66 columns]"
      ]
     },
     "execution_count": 71,
     "metadata": {},
     "output_type": "execute_result"
    }
   ],
   "source": [
    "data.rename(columns={\n",
    "    'C006': 'Sexo',\n",
    "    'V0001':'Estado',\n",
    "    'V0026':'local',\n",
    "    'V0031':'tipo_cidade',\n",
    "    'A005010':'abast_agua',\n",
    "    'A009010':'agua_usada',\n",
    "    'A01501':'esgoto',\n",
    "    'C008':'idade',\n",
    "    'C009':'raca',\n",
    "    'I00102':'plano_saude',\n",
    "    'M01601':'freq_exercfis',\n",
    "    'J01101':'ultima_vez_med',\n",
    "    'J012':'vez_med_ult12mes',\n",
    "    'N001':'av_saude',\n",
    "    'N00101':'av_prop_saude',\n",
    "    'N004':'desconf_peito',\n",
    "    'N005':'desconf_peito',\n",
    "    'N010':'prob_sono',\n",
    "    'N011':'cansado',\n",
    "    'N012':'prazer',\n",
    "    'N013':'concentracao',\n",
    "    'N014':'falta_apetite',\n",
    "    'N015':'agitado',\n",
    "    'N016':'deprimido',\n",
    "    'P00102':'sabe_peso',\n",
    "    'P00104':'peso',\n",
    "    'P00404':'altura',\n",
    "    'P02601':'consumo_sal',\n",
    "    'P027':'freq_alcool',\n",
    "    'P02801':'dias_alcool',\n",
    "    'P029':'doses_no_dia',\n",
    "    'P03201':'consumo_alto_alcool',\n",
    "    'P03202':'num_dose',\n",
    "    'P034':'pratica_exerc',\n",
    "    'P035':'dias_exerc',\n",
    "    'P036':'exercicio_frequente',\n",
    "    'P038':'anda_muito',\n",
    "    'P04501':'horas_tv',\n",
    "    'P04502':'horas_internet',\n",
    "    'P050':'fuma_tabaco',\n",
    "    'P051':'passado_fumo_diario',\n",
    "    'P052':'passado_tabaco',\n",
    "    'P053':'idade_cigarro',\n",
    "    'P05401':'media_cigarros',\n",
    "    'P05402':'cigarros_dia',\n",
    "    'P06701':'uso_vape',\n",
    "    'Q00101':'freq_pressao',\n",
    "    'Q00201':'hipertensao',\n",
    "    'Q003':'idade_hipert',\n",
    "    'Q03001':'diabete',\n",
    "    'Q031':'idade_diabete',\n",
    "    'Q06306':'infarto',\n",
    "    'Q064':'doenca_coracao',\n",
    "    'Q074':'asma',\n",
    "    'S082':'result_sifilis',\n",
    "    'S083':'trat_sifilis',\n",
    "    'T004':'diag_ist',\n",
    "    'T005':'tratamento_ist',\n",
    "    'Y001':'idade_sex_mor',\n",
    "    'Y00101':'idade_sex',\n",
    "    'Y002':'relac_sex_12mes',\n",
    "    'Y003':'freq_uso_camis',\n",
    "    'Y004':'uso_camis_12meses',\n",
    "    'H001':'ultima_vez_medico',\n",
    "    'VDR001':'Metodo_contraceptivo'\n",
    "   \n",
    "}, inplace=True)\n",
    "\n",
    "data.head()"
   ]
  },
  {
   "cell_type": "code",
   "execution_count": 72,
   "id": "63d4a04f-c0ac-463c-913a-e3c8b5e3a093",
   "metadata": {
    "tags": []
   },
   "outputs": [
    {
     "name": "stdout",
     "output_type": "stream",
     "text": [
      "<class 'pandas.core.frame.DataFrame'>\n",
      "RangeIndex: 2574 entries, 0 to 2573\n",
      "Data columns (total 66 columns):\n",
      " #   Column                Non-Null Count  Dtype   \n",
      "---  ------                --------------  -----   \n",
      " 0   Estado                2574 non-null   category\n",
      " 1   local                 2574 non-null   category\n",
      " 2   tipo_cidade           2574 non-null   category\n",
      " 3   abast_agua            2574 non-null   category\n",
      " 4   agua_usada            2574 non-null   category\n",
      " 5   esgoto                2559 non-null   category\n",
      " 6   Sexo                  2574 non-null   category\n",
      " 7   idade                 2574 non-null   int64   \n",
      " 8   raca                  2574 non-null   category\n",
      " 9   plano_saude           2574 non-null   category\n",
      " 10  ultima_vez_med        2574 non-null   category\n",
      " 11  vez_med_ult12mes      2136 non-null   float64 \n",
      " 12  freq_exercfis         2574 non-null   category\n",
      " 13  av_saude              2574 non-null   category\n",
      " 14  av_prop_saude         2574 non-null   category\n",
      " 15  desconf_peito         2460 non-null   category\n",
      " 16  desconf_peito         2460 non-null   category\n",
      " 17  prob_sono             2574 non-null   category\n",
      " 18  cansado               2574 non-null   category\n",
      " 19  prazer                2574 non-null   category\n",
      " 20  concentracao          2574 non-null   category\n",
      " 21  falta_apetite         2574 non-null   category\n",
      " 22  agitado               2574 non-null   category\n",
      " 23  deprimido             2574 non-null   category\n",
      " 24  sabe_peso             2574 non-null   int64   \n",
      " 25  peso                  2554 non-null   float64 \n",
      " 26  altura                2554 non-null   float64 \n",
      " 27  consumo_sal           2574 non-null   category\n",
      " 28  freq_alcool           2574 non-null   category\n",
      " 29  dias_alcool           508 non-null    float64 \n",
      " 30  doses_no_dia          792 non-null    float64 \n",
      " 31  consumo_alto_alcool   792 non-null    category\n",
      " 32  num_dose              326 non-null    float64 \n",
      " 33  pratica_exerc         2574 non-null   category\n",
      " 34  dias_exerc            947 non-null    float64 \n",
      " 35  exercicio_frequente   904 non-null    category\n",
      " 36  anda_muito            1364 non-null   category\n",
      " 37  horas_tv              2574 non-null   category\n",
      " 38  horas_internet        2574 non-null   category\n",
      " 39  fuma_tabaco           2574 non-null   category\n",
      " 40  passado_fumo_diario   31 non-null     category\n",
      " 41  passado_tabaco        2258 non-null   category\n",
      " 42  idade_cigarro         952 non-null    float64 \n",
      " 43  media_cigarros        316 non-null    category\n",
      " 44  cigarros_dia          205 non-null    float64 \n",
      " 45  uso_vape              2574 non-null   category\n",
      " 46  freq_pressao          2574 non-null   category\n",
      " 47  hipertensao           2541 non-null   category\n",
      " 48  asma                  2574 non-null   category\n",
      " 49  Q124                  2574 non-null   category\n",
      " 50  idade_hipert          906 non-null    float64 \n",
      " 51  diabete               2421 non-null   category\n",
      " 52  idade_diabete         342 non-null    float64 \n",
      " 53  infarto               2574 non-null   category\n",
      " 54  doenca_coracao        296 non-null    float64 \n",
      " 55  result_sifilis        59 non-null     category\n",
      " 56  trat_sifilis          0 non-null      category\n",
      " 57  diag_ist              2574 non-null   category\n",
      " 58  tratamento_ist        15 non-null     category\n",
      " 59  idade_sex_mor         2530 non-null   category\n",
      " 60  idade_sex             2009 non-null   float64 \n",
      " 61  relac_sex_12mes       2503 non-null   category\n",
      " 62  freq_uso_camis        1680 non-null   category\n",
      " 63  uso_camis_12meses     681 non-null    category\n",
      " 64  ultima_vez_medico     2530 non-null   category\n",
      " 65  Metodo_contraceptivo  434 non-null    category\n",
      "dtypes: category(51), float64(13), int64(2)\n",
      "memory usage: 440.3 KB\n"
     ]
    }
   ],
   "source": [
    "data.info()"
   ]
  },
  {
   "cell_type": "code",
   "execution_count": 73,
   "id": "e4d5d1fb-5114-4261-8e02-a26e88943db4",
   "metadata": {
    "tags": []
   },
   "outputs": [
    {
     "name": "stdout",
     "output_type": "stream",
     "text": [
      "Colunas com valores nulos:\n",
      "esgoto                    15\n",
      "vez_med_ult12mes         438\n",
      "desconf_peito            114\n",
      "desconf_peito            114\n",
      "peso                      20\n",
      "altura                    20\n",
      "dias_alcool             2066\n",
      "doses_no_dia            1782\n",
      "consumo_alto_alcool     1782\n",
      "num_dose                2248\n",
      "dias_exerc              1627\n",
      "exercicio_frequente     1670\n",
      "anda_muito              1210\n",
      "passado_fumo_diario     2543\n",
      "passado_tabaco           316\n",
      "idade_cigarro           1622\n",
      "media_cigarros          2258\n",
      "cigarros_dia            2369\n",
      "hipertensao               33\n",
      "idade_hipert            1668\n",
      "diabete                  153\n",
      "idade_diabete           2232\n",
      "doenca_coracao          2278\n",
      "result_sifilis          2515\n",
      "trat_sifilis            2574\n",
      "tratamento_ist          2559\n",
      "idade_sex_mor             44\n",
      "idade_sex                565\n",
      "relac_sex_12mes           71\n",
      "freq_uso_camis           894\n",
      "uso_camis_12meses       1893\n",
      "ultima_vez_medico         44\n",
      "Metodo_contraceptivo    2140\n",
      "dtype: int64\n"
     ]
    }
   ],
   "source": [
    "valores_null = data.isnull().sum()\n",
    "\n",
    "# Filtrar colunas com valores nulos maiores que zero\n",
    "colunas_com_valores_null = valores_null[valores_null > 0]\n",
    "\n",
    "# Exibir colunas com valores nulos maiores que zero\n",
    "print(\"Colunas com valores nulos:\")\n",
    "print(colunas_com_valores_null)"
   ]
  },
  {
   "cell_type": "code",
   "execution_count": 74,
   "id": "a87c94f8-70d4-483f-9613-f83a3a0a56bf",
   "metadata": {
    "tags": []
   },
   "outputs": [
    {
     "data": {
      "text/html": [
       "<style type=\"text/css\">\n",
       "</style>\n",
       "<table id=\"T_1048e\">\n",
       "  <thead>\n",
       "    <tr>\n",
       "      <th class=\"blank level0\" >&nbsp;</th>\n",
       "      <th id=\"T_1048e_level0_col0\" class=\"col_heading level0 col0\" >% Valores Nulos</th>\n",
       "    </tr>\n",
       "  </thead>\n",
       "  <tbody>\n",
       "    <tr>\n",
       "      <th id=\"T_1048e_level0_row0\" class=\"row_heading level0 row0\" >trat_sifilis</th>\n",
       "      <td id=\"T_1048e_row0_col0\" class=\"data row0 col0\" >100.00%</td>\n",
       "    </tr>\n",
       "    <tr>\n",
       "      <th id=\"T_1048e_level0_row1\" class=\"row_heading level0 row1\" >tratamento_ist</th>\n",
       "      <td id=\"T_1048e_row1_col0\" class=\"data row1 col0\" >99.42%</td>\n",
       "    </tr>\n",
       "    <tr>\n",
       "      <th id=\"T_1048e_level0_row2\" class=\"row_heading level0 row2\" >passado_fumo_diario</th>\n",
       "      <td id=\"T_1048e_row2_col0\" class=\"data row2 col0\" >98.80%</td>\n",
       "    </tr>\n",
       "    <tr>\n",
       "      <th id=\"T_1048e_level0_row3\" class=\"row_heading level0 row3\" >result_sifilis</th>\n",
       "      <td id=\"T_1048e_row3_col0\" class=\"data row3 col0\" >97.71%</td>\n",
       "    </tr>\n",
       "    <tr>\n",
       "      <th id=\"T_1048e_level0_row4\" class=\"row_heading level0 row4\" >cigarros_dia</th>\n",
       "      <td id=\"T_1048e_row4_col0\" class=\"data row4 col0\" >92.04%</td>\n",
       "    </tr>\n",
       "    <tr>\n",
       "      <th id=\"T_1048e_level0_row5\" class=\"row_heading level0 row5\" >doenca_coracao</th>\n",
       "      <td id=\"T_1048e_row5_col0\" class=\"data row5 col0\" >88.50%</td>\n",
       "    </tr>\n",
       "    <tr>\n",
       "      <th id=\"T_1048e_level0_row6\" class=\"row_heading level0 row6\" >media_cigarros</th>\n",
       "      <td id=\"T_1048e_row6_col0\" class=\"data row6 col0\" >87.72%</td>\n",
       "    </tr>\n",
       "    <tr>\n",
       "      <th id=\"T_1048e_level0_row7\" class=\"row_heading level0 row7\" >num_dose</th>\n",
       "      <td id=\"T_1048e_row7_col0\" class=\"data row7 col0\" >87.33%</td>\n",
       "    </tr>\n",
       "    <tr>\n",
       "      <th id=\"T_1048e_level0_row8\" class=\"row_heading level0 row8\" >idade_diabete</th>\n",
       "      <td id=\"T_1048e_row8_col0\" class=\"data row8 col0\" >86.71%</td>\n",
       "    </tr>\n",
       "    <tr>\n",
       "      <th id=\"T_1048e_level0_row9\" class=\"row_heading level0 row9\" >Metodo_contraceptivo</th>\n",
       "      <td id=\"T_1048e_row9_col0\" class=\"data row9 col0\" >83.14%</td>\n",
       "    </tr>\n",
       "    <tr>\n",
       "      <th id=\"T_1048e_level0_row10\" class=\"row_heading level0 row10\" >dias_alcool</th>\n",
       "      <td id=\"T_1048e_row10_col0\" class=\"data row10 col0\" >80.26%</td>\n",
       "    </tr>\n",
       "    <tr>\n",
       "      <th id=\"T_1048e_level0_row11\" class=\"row_heading level0 row11\" >uso_camis_12meses</th>\n",
       "      <td id=\"T_1048e_row11_col0\" class=\"data row11 col0\" >73.54%</td>\n",
       "    </tr>\n",
       "    <tr>\n",
       "      <th id=\"T_1048e_level0_row12\" class=\"row_heading level0 row12\" >doses_no_dia</th>\n",
       "      <td id=\"T_1048e_row12_col0\" class=\"data row12 col0\" >69.23%</td>\n",
       "    </tr>\n",
       "    <tr>\n",
       "      <th id=\"T_1048e_level0_row13\" class=\"row_heading level0 row13\" >consumo_alto_alcool</th>\n",
       "      <td id=\"T_1048e_row13_col0\" class=\"data row13 col0\" >69.23%</td>\n",
       "    </tr>\n",
       "    <tr>\n",
       "      <th id=\"T_1048e_level0_row14\" class=\"row_heading level0 row14\" >exercicio_frequente</th>\n",
       "      <td id=\"T_1048e_row14_col0\" class=\"data row14 col0\" >64.88%</td>\n",
       "    </tr>\n",
       "    <tr>\n",
       "      <th id=\"T_1048e_level0_row15\" class=\"row_heading level0 row15\" >idade_hipert</th>\n",
       "      <td id=\"T_1048e_row15_col0\" class=\"data row15 col0\" >64.80%</td>\n",
       "    </tr>\n",
       "    <tr>\n",
       "      <th id=\"T_1048e_level0_row16\" class=\"row_heading level0 row16\" >dias_exerc</th>\n",
       "      <td id=\"T_1048e_row16_col0\" class=\"data row16 col0\" >63.21%</td>\n",
       "    </tr>\n",
       "    <tr>\n",
       "      <th id=\"T_1048e_level0_row17\" class=\"row_heading level0 row17\" >idade_cigarro</th>\n",
       "      <td id=\"T_1048e_row17_col0\" class=\"data row17 col0\" >63.01%</td>\n",
       "    </tr>\n",
       "    <tr>\n",
       "      <th id=\"T_1048e_level0_row18\" class=\"row_heading level0 row18\" >anda_muito</th>\n",
       "      <td id=\"T_1048e_row18_col0\" class=\"data row18 col0\" >47.01%</td>\n",
       "    </tr>\n",
       "    <tr>\n",
       "      <th id=\"T_1048e_level0_row19\" class=\"row_heading level0 row19\" >freq_uso_camis</th>\n",
       "      <td id=\"T_1048e_row19_col0\" class=\"data row19 col0\" >34.73%</td>\n",
       "    </tr>\n",
       "    <tr>\n",
       "      <th id=\"T_1048e_level0_row20\" class=\"row_heading level0 row20\" >idade_sex</th>\n",
       "      <td id=\"T_1048e_row20_col0\" class=\"data row20 col0\" >21.95%</td>\n",
       "    </tr>\n",
       "    <tr>\n",
       "      <th id=\"T_1048e_level0_row21\" class=\"row_heading level0 row21\" >vez_med_ult12mes</th>\n",
       "      <td id=\"T_1048e_row21_col0\" class=\"data row21 col0\" >17.02%</td>\n",
       "    </tr>\n",
       "    <tr>\n",
       "      <th id=\"T_1048e_level0_row22\" class=\"row_heading level0 row22\" >passado_tabaco</th>\n",
       "      <td id=\"T_1048e_row22_col0\" class=\"data row22 col0\" >12.28%</td>\n",
       "    </tr>\n",
       "    <tr>\n",
       "      <th id=\"T_1048e_level0_row23\" class=\"row_heading level0 row23\" >diabete</th>\n",
       "      <td id=\"T_1048e_row23_col0\" class=\"data row23 col0\" >5.94%</td>\n",
       "    </tr>\n",
       "    <tr>\n",
       "      <th id=\"T_1048e_level0_row24\" class=\"row_heading level0 row24\" >desconf_peito</th>\n",
       "      <td id=\"T_1048e_row24_col0\" class=\"data row24 col0\" >4.43%</td>\n",
       "    </tr>\n",
       "    <tr>\n",
       "      <th id=\"T_1048e_level0_row25\" class=\"row_heading level0 row25\" >desconf_peito</th>\n",
       "      <td id=\"T_1048e_row25_col0\" class=\"data row25 col0\" >4.43%</td>\n",
       "    </tr>\n",
       "    <tr>\n",
       "      <th id=\"T_1048e_level0_row26\" class=\"row_heading level0 row26\" >relac_sex_12mes</th>\n",
       "      <td id=\"T_1048e_row26_col0\" class=\"data row26 col0\" >2.76%</td>\n",
       "    </tr>\n",
       "    <tr>\n",
       "      <th id=\"T_1048e_level0_row27\" class=\"row_heading level0 row27\" >idade_sex_mor</th>\n",
       "      <td id=\"T_1048e_row27_col0\" class=\"data row27 col0\" >1.71%</td>\n",
       "    </tr>\n",
       "    <tr>\n",
       "      <th id=\"T_1048e_level0_row28\" class=\"row_heading level0 row28\" >ultima_vez_medico</th>\n",
       "      <td id=\"T_1048e_row28_col0\" class=\"data row28 col0\" >1.71%</td>\n",
       "    </tr>\n",
       "    <tr>\n",
       "      <th id=\"T_1048e_level0_row29\" class=\"row_heading level0 row29\" >hipertensao</th>\n",
       "      <td id=\"T_1048e_row29_col0\" class=\"data row29 col0\" >1.28%</td>\n",
       "    </tr>\n",
       "    <tr>\n",
       "      <th id=\"T_1048e_level0_row30\" class=\"row_heading level0 row30\" >altura</th>\n",
       "      <td id=\"T_1048e_row30_col0\" class=\"data row30 col0\" >0.78%</td>\n",
       "    </tr>\n",
       "    <tr>\n",
       "      <th id=\"T_1048e_level0_row31\" class=\"row_heading level0 row31\" >peso</th>\n",
       "      <td id=\"T_1048e_row31_col0\" class=\"data row31 col0\" >0.78%</td>\n",
       "    </tr>\n",
       "    <tr>\n",
       "      <th id=\"T_1048e_level0_row32\" class=\"row_heading level0 row32\" >esgoto</th>\n",
       "      <td id=\"T_1048e_row32_col0\" class=\"data row32 col0\" >0.58%</td>\n",
       "    </tr>\n",
       "  </tbody>\n",
       "</table>\n"
      ],
      "text/plain": [
       "<pandas.io.formats.style.Styler at 0x21846b02c50>"
      ]
     },
     "execution_count": 74,
     "metadata": {},
     "output_type": "execute_result"
    }
   ],
   "source": [
    "porcentagem_null = (data.isna().sum() / data.shape[0])\n",
    "\n",
    "# Filtrar apenas as colunas que têm valores nulos\n",
    "porcentagem_null_filt = porcentagem_null[porcentagem_null > 0]\n",
    "\n",
    "data_nulos=(\n",
    "porcentagem_null_filt.to_frame(\"% Valores Nulos\")\n",
    ".sort_values(\"% Valores Nulos\", ascending=False)\n",
    ")\n",
    "\n",
    "\n",
    "data_nulos.style.format('{:1.2%}', subset=['% Valores Nulos'])"
   ]
  },
  {
   "cell_type": "code",
   "execution_count": 75,
   "id": "469bd67d-2173-4ff1-a913-c6793937ffc2",
   "metadata": {
    "tags": []
   },
   "outputs": [],
   "source": [
    "data.drop(columns=['doses_no_dia', 'trat_sifilis', 'tratamento_ist', 'passado_fumo_diario', \n",
    "        'result_sifilis', 'cigarros_dia', 'num_dose', 'Metodo_contraceptivo', 'media_cigarros',\n",
    "        'dias_alcool', 'doenca_coracao', 'idade_diabete', 'uso_camis_12meses', 'consumo_alto_alcool'], inplace=True)"
   ]
  },
  {
   "cell_type": "code",
   "execution_count": 76,
   "id": "d8807199-7bcc-48e0-bc36-888af047976e",
   "metadata": {
    "tags": []
   },
   "outputs": [
    {
     "name": "stdout",
     "output_type": "stream",
     "text": [
      "<class 'pandas.core.frame.DataFrame'>\n",
      "RangeIndex: 2574 entries, 0 to 2573\n",
      "Data columns (total 52 columns):\n",
      " #   Column               Non-Null Count  Dtype   \n",
      "---  ------               --------------  -----   \n",
      " 0   Estado               2574 non-null   category\n",
      " 1   local                2574 non-null   category\n",
      " 2   tipo_cidade          2574 non-null   category\n",
      " 3   abast_agua           2574 non-null   category\n",
      " 4   agua_usada           2574 non-null   category\n",
      " 5   esgoto               2559 non-null   category\n",
      " 6   Sexo                 2574 non-null   category\n",
      " 7   idade                2574 non-null   int64   \n",
      " 8   raca                 2574 non-null   category\n",
      " 9   plano_saude          2574 non-null   category\n",
      " 10  ultima_vez_med       2574 non-null   category\n",
      " 11  vez_med_ult12mes     2136 non-null   float64 \n",
      " 12  freq_exercfis        2574 non-null   category\n",
      " 13  av_saude             2574 non-null   category\n",
      " 14  av_prop_saude        2574 non-null   category\n",
      " 15  desconf_peito        2460 non-null   category\n",
      " 16  desconf_peito        2460 non-null   category\n",
      " 17  prob_sono            2574 non-null   category\n",
      " 18  cansado              2574 non-null   category\n",
      " 19  prazer               2574 non-null   category\n",
      " 20  concentracao         2574 non-null   category\n",
      " 21  falta_apetite        2574 non-null   category\n",
      " 22  agitado              2574 non-null   category\n",
      " 23  deprimido            2574 non-null   category\n",
      " 24  sabe_peso            2574 non-null   int64   \n",
      " 25  peso                 2554 non-null   float64 \n",
      " 26  altura               2554 non-null   float64 \n",
      " 27  consumo_sal          2574 non-null   category\n",
      " 28  freq_alcool          2574 non-null   category\n",
      " 29  pratica_exerc        2574 non-null   category\n",
      " 30  dias_exerc           947 non-null    float64 \n",
      " 31  exercicio_frequente  904 non-null    category\n",
      " 32  anda_muito           1364 non-null   category\n",
      " 33  horas_tv             2574 non-null   category\n",
      " 34  horas_internet       2574 non-null   category\n",
      " 35  fuma_tabaco          2574 non-null   category\n",
      " 36  passado_tabaco       2258 non-null   category\n",
      " 37  idade_cigarro        952 non-null    float64 \n",
      " 38  uso_vape             2574 non-null   category\n",
      " 39  freq_pressao         2574 non-null   category\n",
      " 40  hipertensao          2541 non-null   category\n",
      " 41  asma                 2574 non-null   category\n",
      " 42  Q124                 2574 non-null   category\n",
      " 43  idade_hipert         906 non-null    float64 \n",
      " 44  diabete              2421 non-null   category\n",
      " 45  infarto              2574 non-null   category\n",
      " 46  diag_ist             2574 non-null   category\n",
      " 47  idade_sex_mor        2530 non-null   category\n",
      " 48  idade_sex            2009 non-null   float64 \n",
      " 49  relac_sex_12mes      2503 non-null   category\n",
      " 50  freq_uso_camis       1680 non-null   category\n",
      " 51  ultima_vez_medico    2530 non-null   category\n",
      "dtypes: category(43), float64(7), int64(2)\n",
      "memory usage: 298.2 KB\n"
     ]
    }
   ],
   "source": [
    "data.info()"
   ]
  },
  {
   "cell_type": "code",
   "execution_count": 85,
   "id": "ea8932a6-7f7c-4ddd-9bcd-52e7a1f03ca3",
   "metadata": {
    "tags": []
   },
   "outputs": [
    {
     "data": {
      "text/plain": [
       "Estado                    0\n",
       "local                     0\n",
       "tipo_cidade               0\n",
       "abast_agua                0\n",
       "agua_usada                0\n",
       "esgoto                   15\n",
       "Sexo                      0\n",
       "idade                     0\n",
       "raca                      0\n",
       "plano_saude               0\n",
       "ultima_vez_med            0\n",
       "vez_med_ult12mes        438\n",
       "freq_exercfis             0\n",
       "av_saude                  0\n",
       "av_prop_saude             0\n",
       "desconf_peito           114\n",
       "desconf_peito           114\n",
       "prob_sono                 0\n",
       "cansado                   0\n",
       "prazer                    0\n",
       "concentracao              0\n",
       "falta_apetite             0\n",
       "agitado                   0\n",
       "deprimido                 0\n",
       "sabe_peso                 0\n",
       "peso                     20\n",
       "altura                   20\n",
       "consumo_sal               0\n",
       "freq_alcool               0\n",
       "pratica_exerc             0\n",
       "dias_exerc             1627\n",
       "exercicio_frequente    1670\n",
       "anda_muito             1210\n",
       "horas_tv                  0\n",
       "horas_internet            0\n",
       "fuma_tabaco               0\n",
       "passado_tabaco          316\n",
       "idade_cigarro          1622\n",
       "uso_vape                  0\n",
       "freq_pressao              0\n",
       "hipertensao              33\n",
       "asma                      0\n",
       "Q124                      0\n",
       "idade_hipert           1668\n",
       "diabete                 153\n",
       "infarto                   0\n",
       "diag_ist                  0\n",
       "idade_sex_mor            44\n",
       "idade_sex               565\n",
       "relac_sex_12mes          71\n",
       "freq_uso_camis          894\n",
       "ultima_vez_medico        44\n",
       "dtype: int64"
      ]
     },
     "execution_count": 85,
     "metadata": {},
     "output_type": "execute_result"
    }
   ],
   "source": [
    "data.isna().sum()"
   ]
  },
  {
   "cell_type": "code",
   "execution_count": 90,
   "id": "37f579b5-53e7-402c-983a-f9f3930b3eef",
   "metadata": {
    "tags": []
   },
   "outputs": [
    {
     "data": {
      "text/plain": [
       "idade_sex           float64\n",
       "idade_hipert        float64\n",
       "vez_med_ult12mes    float64\n",
       "dias_exerc          float64\n",
       "idade_cigarro       float64\n",
       "dtype: object"
      ]
     },
     "execution_count": 90,
     "metadata": {},
     "output_type": "execute_result"
    }
   ],
   "source": [
    "data[[\t\n",
    "'idade_sex',\t\n",
    "'idade_hipert',\t\n",
    "'vez_med_ult12mes',\t\n",
    "'dias_exerc',\t\n",
    "'idade_cigarro']].dtypes"
   ]
  },
  {
   "cell_type": "code",
   "execution_count": 92,
   "id": "eef82cd4-7759-4af9-a133-c0558f951901",
   "metadata": {
    "tags": []
   },
   "outputs": [],
   "source": [
    "colunas_converter = ['idade_sex', 'idade_hipert', 'vez_med_ult12mes', 'dias_exerc', 'idade_cigarro']\n",
    "data[colunas_converter] = data[colunas_converter].astype('category')"
   ]
  },
  {
   "cell_type": "code",
   "execution_count": 95,
   "id": "00471315-4538-4154-91d3-e8e43550ac01",
   "metadata": {
    "tags": []
   },
   "outputs": [
    {
     "name": "stdout",
     "output_type": "stream",
     "text": [
      "esgoto                 category\n",
      "vez_med_ult12mes       category\n",
      "desconf_peito          category\n",
      "desconf_peito          category\n",
      "desconf_peito          category\n",
      "desconf_peito          category\n",
      "peso                    float64\n",
      "altura                  float64\n",
      "dias_exerc             category\n",
      "exercicio_frequente    category\n",
      "anda_muito             category\n",
      "passado_tabaco         category\n",
      "idade_cigarro          category\n",
      "hipertensao            category\n",
      "idade_hipert           category\n",
      "diabete                category\n",
      "idade_sex_mor          category\n",
      "idade_sex              category\n",
      "relac_sex_12mes        category\n",
      "freq_uso_camis         category\n",
      "ultima_vez_medico      category\n",
      "dtype: object\n"
     ]
    }
   ],
   "source": [
    "valores_nulos = data.isnull().sum()\n",
    "\n",
    "colunas_com_nulos = valores_nulos[valores_nulos > 0].index\n",
    "\n",
    "dados_colunas_com_nulos = data[colunas_com_nulos].dtypes\n",
    "print(dados_colunas_com_nulos)"
   ]
  },
  {
   "cell_type": "code",
   "execution_count": 100,
   "id": "fce6a30b-dfcc-47ce-9e66-d26122c22837",
   "metadata": {
    "tags": []
   },
   "outputs": [],
   "source": [
    "data['exercicio_frequente'] = data['exercicio_frequente'].astype('string')\n",
    "\n",
    "# Aplicando a lógica\n",
    "for index, row in data.iterrows():\n",
    "    if row['pratica_exerc'] == 1 and pd.isna(row['exercicio_frequente']):\n",
    "        data.at[index, 'exercicio_frequente'] = None\n",
    "    elif row['pratica_exerc'] == 2 and pd.isna(row['exercicio_frequente']):\n",
    "        data.at[index, 'exercicio_frequente'] = '0'\n",
    "    \n",
    "    if row['pratica_exerc'] == 1 and pd.isna(row['dias_exerc']):\n",
    "        data.at[index, 'dias_exerc'] = None\n",
    "    elif row['pratica_exerc'] == 2 and pd.isna(row['dias_exerc']):\n",
    "        data.at[index, 'dias_exerc'] = 0"
   ]
  },
  {
   "cell_type": "code",
   "execution_count": 101,
   "id": "6d4f5fe9-e825-4b15-8860-808f094b6dcc",
   "metadata": {
    "tags": []
   },
   "outputs": [
    {
     "data": {
      "text/plain": [
       "exercicio_frequente    43\n",
       "dias_exerc              0\n",
       "dtype: int64"
      ]
     },
     "execution_count": 101,
     "metadata": {},
     "output_type": "execute_result"
    }
   ],
   "source": [
    "data[['exercicio_frequente','dias_exerc']].isna().sum()"
   ]
  },
  {
   "cell_type": "code",
   "execution_count": 106,
   "id": "1e3cde8a-d059-4230-9643-899562d26fc1",
   "metadata": {
    "tags": []
   },
   "outputs": [
    {
     "data": {
      "text/html": [
       "<style type=\"text/css\">\n",
       "</style>\n",
       "<table id=\"T_0ebde\">\n",
       "  <thead>\n",
       "    <tr>\n",
       "      <th class=\"blank level0\" >&nbsp;</th>\n",
       "      <th id=\"T_0ebde_level0_col0\" class=\"col_heading level0 col0\" >% Valores Nulos</th>\n",
       "    </tr>\n",
       "  </thead>\n",
       "  <tbody>\n",
       "    <tr>\n",
       "      <th id=\"T_0ebde_level0_row0\" class=\"row_heading level0 row0\" >idade_hipert</th>\n",
       "      <td id=\"T_0ebde_row0_col0\" class=\"data row0 col0\" >64.80%</td>\n",
       "    </tr>\n",
       "    <tr>\n",
       "      <th id=\"T_0ebde_level0_row1\" class=\"row_heading level0 row1\" >idade_cigarro</th>\n",
       "      <td id=\"T_0ebde_row1_col0\" class=\"data row1 col0\" >63.01%</td>\n",
       "    </tr>\n",
       "    <tr>\n",
       "      <th id=\"T_0ebde_level0_row2\" class=\"row_heading level0 row2\" >anda_muito</th>\n",
       "      <td id=\"T_0ebde_row2_col0\" class=\"data row2 col0\" >47.01%</td>\n",
       "    </tr>\n",
       "    <tr>\n",
       "      <th id=\"T_0ebde_level0_row3\" class=\"row_heading level0 row3\" >freq_uso_camis</th>\n",
       "      <td id=\"T_0ebde_row3_col0\" class=\"data row3 col0\" >34.73%</td>\n",
       "    </tr>\n",
       "    <tr>\n",
       "      <th id=\"T_0ebde_level0_row4\" class=\"row_heading level0 row4\" >idade_sex</th>\n",
       "      <td id=\"T_0ebde_row4_col0\" class=\"data row4 col0\" >21.95%</td>\n",
       "    </tr>\n",
       "    <tr>\n",
       "      <th id=\"T_0ebde_level0_row5\" class=\"row_heading level0 row5\" >vez_med_ult12mes</th>\n",
       "      <td id=\"T_0ebde_row5_col0\" class=\"data row5 col0\" >17.02%</td>\n",
       "    </tr>\n",
       "    <tr>\n",
       "      <th id=\"T_0ebde_level0_row6\" class=\"row_heading level0 row6\" >passado_tabaco</th>\n",
       "      <td id=\"T_0ebde_row6_col0\" class=\"data row6 col0\" >12.28%</td>\n",
       "    </tr>\n",
       "    <tr>\n",
       "      <th id=\"T_0ebde_level0_row7\" class=\"row_heading level0 row7\" >diabete</th>\n",
       "      <td id=\"T_0ebde_row7_col0\" class=\"data row7 col0\" >5.94%</td>\n",
       "    </tr>\n",
       "    <tr>\n",
       "      <th id=\"T_0ebde_level0_row8\" class=\"row_heading level0 row8\" >desconf_peito</th>\n",
       "      <td id=\"T_0ebde_row8_col0\" class=\"data row8 col0\" >4.43%</td>\n",
       "    </tr>\n",
       "    <tr>\n",
       "      <th id=\"T_0ebde_level0_row9\" class=\"row_heading level0 row9\" >desconf_peito</th>\n",
       "      <td id=\"T_0ebde_row9_col0\" class=\"data row9 col0\" >4.43%</td>\n",
       "    </tr>\n",
       "    <tr>\n",
       "      <th id=\"T_0ebde_level0_row10\" class=\"row_heading level0 row10\" >relac_sex_12mes</th>\n",
       "      <td id=\"T_0ebde_row10_col0\" class=\"data row10 col0\" >2.76%</td>\n",
       "    </tr>\n",
       "    <tr>\n",
       "      <th id=\"T_0ebde_level0_row11\" class=\"row_heading level0 row11\" >idade_sex_mor</th>\n",
       "      <td id=\"T_0ebde_row11_col0\" class=\"data row11 col0\" >1.71%</td>\n",
       "    </tr>\n",
       "    <tr>\n",
       "      <th id=\"T_0ebde_level0_row12\" class=\"row_heading level0 row12\" >ultima_vez_medico</th>\n",
       "      <td id=\"T_0ebde_row12_col0\" class=\"data row12 col0\" >1.71%</td>\n",
       "    </tr>\n",
       "    <tr>\n",
       "      <th id=\"T_0ebde_level0_row13\" class=\"row_heading level0 row13\" >exercicio_frequente</th>\n",
       "      <td id=\"T_0ebde_row13_col0\" class=\"data row13 col0\" >1.67%</td>\n",
       "    </tr>\n",
       "    <tr>\n",
       "      <th id=\"T_0ebde_level0_row14\" class=\"row_heading level0 row14\" >hipertensao</th>\n",
       "      <td id=\"T_0ebde_row14_col0\" class=\"data row14 col0\" >1.28%</td>\n",
       "    </tr>\n",
       "    <tr>\n",
       "      <th id=\"T_0ebde_level0_row15\" class=\"row_heading level0 row15\" >altura</th>\n",
       "      <td id=\"T_0ebde_row15_col0\" class=\"data row15 col0\" >0.78%</td>\n",
       "    </tr>\n",
       "    <tr>\n",
       "      <th id=\"T_0ebde_level0_row16\" class=\"row_heading level0 row16\" >peso</th>\n",
       "      <td id=\"T_0ebde_row16_col0\" class=\"data row16 col0\" >0.78%</td>\n",
       "    </tr>\n",
       "    <tr>\n",
       "      <th id=\"T_0ebde_level0_row17\" class=\"row_heading level0 row17\" >esgoto</th>\n",
       "      <td id=\"T_0ebde_row17_col0\" class=\"data row17 col0\" >0.58%</td>\n",
       "    </tr>\n",
       "  </tbody>\n",
       "</table>\n"
      ],
      "text/plain": [
       "<pandas.io.formats.style.Styler at 0x21846eb0d10>"
      ]
     },
     "execution_count": 106,
     "metadata": {},
     "output_type": "execute_result"
    }
   ],
   "source": [
    "porcentagem_nulos = (data.isna().sum() / data.shape[0])\n",
    "\n",
    "# Filtrar apenas as colunas que têm valores nulos\n",
    "porcentagem_nulos_filtrada = porcentagem_nulos[porcentagem_nulos > 0]\n",
    "\n",
    "data_nulos=(\n",
    "porcentagem_nulos_filtrada.to_frame(\"% Valores Nulos\")\n",
    ".sort_values(\"% Valores Nulos\", ascending=False)\n",
    ")\n",
    "\n",
    "\n",
    "data_nulos.style.format('{:1.2%}', subset=['% Valores Nulos'])"
   ]
  },
  {
   "cell_type": "code",
   "execution_count": 103,
   "id": "7c83cfaa-cade-4e28-97d0-b687fdcc59af",
   "metadata": {
    "tags": []
   },
   "outputs": [],
   "source": [
    "data['exercicio_frequente'] = data['exercicio_frequente'].astype('category')"
   ]
  },
  {
   "cell_type": "code",
   "execution_count": 120,
   "id": "dc18ddba-c5ea-4114-999f-0773fc156f7e",
   "metadata": {
    "tags": []
   },
   "outputs": [
    {
     "data": {
      "text/plain": [
       "Estado                 category\n",
       "local                  category\n",
       "tipo_cidade            category\n",
       "abast_agua             category\n",
       "agua_usada             category\n",
       "esgoto                 category\n",
       "Sexo                   category\n",
       "idade                     int64\n",
       "raca                   category\n",
       "plano_saude            category\n",
       "ultima_vez_med         category\n",
       "vez_med_ult12mes       category\n",
       "freq_exercfis          category\n",
       "av_saude               category\n",
       "av_prop_saude          category\n",
       "desconf_peito          category\n",
       "desconf_peito          category\n",
       "prob_sono              category\n",
       "cansado                category\n",
       "prazer                 category\n",
       "concentracao           category\n",
       "falta_apetite          category\n",
       "agitado                category\n",
       "deprimido              category\n",
       "sabe_peso                 int64\n",
       "peso                    float64\n",
       "altura                  float64\n",
       "consumo_sal            category\n",
       "freq_alcool            category\n",
       "pratica_exerc          category\n",
       "dias_exerc             category\n",
       "exercicio_frequente    category\n",
       "anda_muito             category\n",
       "horas_tv               category\n",
       "horas_internet         category\n",
       "fuma_tabaco            category\n",
       "passado_tabaco         category\n",
       "idade_cigarro           float64\n",
       "uso_vape               category\n",
       "freq_pressao           category\n",
       "hipertensao            category\n",
       "asma                   category\n",
       "Q124                   category\n",
       "idade_hipert            float64\n",
       "diabete                category\n",
       "infarto                category\n",
       "diag_ist               category\n",
       "idade_sex_mor          category\n",
       "idade_sex               float64\n",
       "relac_sex_12mes        category\n",
       "freq_uso_camis         category\n",
       "ultima_vez_medico      category\n",
       "dtype: object"
      ]
     },
     "execution_count": 120,
     "metadata": {},
     "output_type": "execute_result"
    }
   ],
   "source": [
    "data.dtypes"
   ]
  },
  {
   "cell_type": "code",
   "execution_count": 122,
   "id": "54426505-1a79-4a9f-bce9-a66e0606ce33",
   "metadata": {
    "tags": []
   },
   "outputs": [
    {
     "name": "stderr",
     "output_type": "stream",
     "text": [
      "C:\\Users\\Y044771\\AppData\\Local\\Temp\\ipykernel_22200\\1774530098.py:9: SettingWithCopyWarning: \n",
      "A value is trying to be set on a copy of a slice from a DataFrame\n",
      "\n",
      "See the caveats in the documentation: https://pandas.pydata.org/pandas-docs/stable/user_guide/indexing.html#returning-a-view-versus-a-copy\n",
      "  data['desconf_peito'].fillna(data['desconf_peito'].mode(), inplace=True)\n"
     ]
    }
   ],
   "source": [
    "data['esgoto'].fillna(data['esgoto'].mode(), inplace=True)\n",
    "data['peso'].fillna(data['peso'].mean(), inplace=True)\n",
    "data['altura'].fillna(data['altura'].mean(), inplace=True)\n",
    "data['hipertensao'].fillna(data['hipertensao'].mode(), inplace=True)\n",
    "data['exercicio_frequente'].fillna(data['exercicio_frequente'].mode(), inplace=True)\n",
    "data['ultima_vez_medico'].fillna(data['ultima_vez_medico'].mode(), inplace=True)\n",
    "data['idade_sex_mor'].fillna(data['idade_sex_mor'].mode(), inplace=True)\n",
    "data['relac_sex_12mes'].fillna(data['relac_sex_12mes'].mode(), inplace=True)\n",
    "data['desconf_peito'].fillna(data['desconf_peito'].mode(), inplace=True)\n",
    "data['passado_tabaco'].fillna(data['passado_tabaco'].mode(), inplace=True)\n",
    "data['vez_med_ult12mes'].fillna(data['vez_med_ult12mes'].mode(), inplace=True)\n",
    "data['idade_sex'].fillna(data['idade_sex'].mean(), inplace=True)\n",
    "data['freq_uso_camis'].fillna(data['freq_uso_camis'].mode(), inplace=True)\n",
    "data['anda_muito'].fillna(data['anda_muito'].mode(), inplace=True)\n",
    "data['idade_cigarro'].fillna(data['idade_cigarro'].mean(), inplace=True)\n",
    "data['idade_hipert'].fillna(data['idade_hipert'].mean(), inplace=True)"
   ]
  },
  {
   "cell_type": "code",
   "execution_count": 123,
   "id": "a770fdf9-0ce2-4fd4-922a-e546962b1a5d",
   "metadata": {
    "tags": []
   },
   "outputs": [
    {
     "data": {
      "text/html": [
       "<style type=\"text/css\">\n",
       "</style>\n",
       "<table id=\"T_ce2bf\">\n",
       "  <thead>\n",
       "    <tr>\n",
       "      <th class=\"blank level0\" >&nbsp;</th>\n",
       "      <th id=\"T_ce2bf_level0_col0\" class=\"col_heading level0 col0\" >% Valores Nulos</th>\n",
       "    </tr>\n",
       "  </thead>\n",
       "  <tbody>\n",
       "    <tr>\n",
       "      <th id=\"T_ce2bf_level0_row0\" class=\"row_heading level0 row0\" >anda_muito</th>\n",
       "      <td id=\"T_ce2bf_row0_col0\" class=\"data row0 col0\" >46.64%</td>\n",
       "    </tr>\n",
       "    <tr>\n",
       "      <th id=\"T_ce2bf_level0_row1\" class=\"row_heading level0 row1\" >freq_uso_camis</th>\n",
       "      <td id=\"T_ce2bf_row1_col0\" class=\"data row1 col0\" >34.16%</td>\n",
       "    </tr>\n",
       "    <tr>\n",
       "      <th id=\"T_ce2bf_level0_row2\" class=\"row_heading level0 row2\" >vez_med_ult12mes</th>\n",
       "      <td id=\"T_ce2bf_row2_col0\" class=\"data row2 col0\" >15.74%</td>\n",
       "    </tr>\n",
       "    <tr>\n",
       "      <th id=\"T_ce2bf_level0_row3\" class=\"row_heading level0 row3\" >passado_tabaco</th>\n",
       "      <td id=\"T_ce2bf_row3_col0\" class=\"data row3 col0\" >12.36%</td>\n",
       "    </tr>\n",
       "    <tr>\n",
       "      <th id=\"T_ce2bf_level0_row4\" class=\"row_heading level0 row4\" >diabete</th>\n",
       "      <td id=\"T_ce2bf_row4_col0\" class=\"data row4 col0\" >4.94%</td>\n",
       "    </tr>\n",
       "    <tr>\n",
       "      <th id=\"T_ce2bf_level0_row5\" class=\"row_heading level0 row5\" >desconf_peito</th>\n",
       "      <td id=\"T_ce2bf_row5_col0\" class=\"data row5 col0\" >4.61%</td>\n",
       "    </tr>\n",
       "    <tr>\n",
       "      <th id=\"T_ce2bf_level0_row6\" class=\"row_heading level0 row6\" >desconf_peito</th>\n",
       "      <td id=\"T_ce2bf_row6_col0\" class=\"data row6 col0\" >4.61%</td>\n",
       "    </tr>\n",
       "  </tbody>\n",
       "</table>\n"
      ],
      "text/plain": [
       "<pandas.io.formats.style.Styler at 0x2184e3db3d0>"
      ]
     },
     "execution_count": 123,
     "metadata": {},
     "output_type": "execute_result"
    }
   ],
   "source": [
    "porcentagem_nulos = (data.isna().sum() / data.shape[0])\n",
    "\n",
    "# Filtrar apenas as colunas que têm valores nulos\n",
    "porcentagem_nulos_filtrada = porcentagem_nulos[porcentagem_nulos > 0]\n",
    "\n",
    "data_nulos=(\n",
    "porcentagem_nulos_filtrada.to_frame(\"% Valores Nulos\")\n",
    ".sort_values(\"% Valores Nulos\", ascending=False)\n",
    ")\n",
    "\n",
    "\n",
    "data_nulos.style.format('{:1.2%}', subset=['% Valores Nulos'])"
   ]
  },
  {
   "cell_type": "code",
   "execution_count": 124,
   "id": "84ca65a5-e53d-40e5-9251-eeb39521044e",
   "metadata": {
    "tags": []
   },
   "outputs": [],
   "source": [
    "data.drop(columns=['anda_muito', 'freq_uso_camis', 'vez_med_ult12mes', 'passado_tabaco', \n",
    "        'desconf_peito'], inplace=True)"
   ]
  },
  {
   "cell_type": "code",
   "execution_count": 125,
   "id": "58c5cd76-b48e-4975-909f-64e16571a61a",
   "metadata": {
    "tags": []
   },
   "outputs": [
    {
     "data": {
      "text/html": [
       "<style type=\"text/css\">\n",
       "</style>\n",
       "<table id=\"T_fc1e5\">\n",
       "  <thead>\n",
       "    <tr>\n",
       "      <th class=\"blank level0\" >&nbsp;</th>\n",
       "      <th id=\"T_fc1e5_level0_col0\" class=\"col_heading level0 col0\" >% Valores Nulos</th>\n",
       "    </tr>\n",
       "  </thead>\n",
       "  <tbody>\n",
       "    <tr>\n",
       "      <th id=\"T_fc1e5_level0_row0\" class=\"row_heading level0 row0\" >diabete</th>\n",
       "      <td id=\"T_fc1e5_row0_col0\" class=\"data row0 col0\" >4.94%</td>\n",
       "    </tr>\n",
       "  </tbody>\n",
       "</table>\n"
      ],
      "text/plain": [
       "<pandas.io.formats.style.Styler at 0x2184e3db210>"
      ]
     },
     "execution_count": 125,
     "metadata": {},
     "output_type": "execute_result"
    }
   ],
   "source": [
    "porcentagem_nulos = (data.isna().sum() / data.shape[0])\n",
    "\n",
    "# Filtrar apenas as colunas que têm valores nulos\n",
    "porcentagem_nulos_filtrada = porcentagem_nulos[porcentagem_nulos > 0]\n",
    "\n",
    "data_nulos=(\n",
    "porcentagem_nulos_filtrada.to_frame(\"% Valores Nulos\")\n",
    ".sort_values(\"% Valores Nulos\", ascending=False)\n",
    ")\n",
    "\n",
    "\n",
    "data_nulos.style.format('{:1.2%}', subset=['% Valores Nulos'])"
   ]
  },
  {
   "cell_type": "code",
   "execution_count": 135,
   "id": "0e6bed57-a2fb-4b3f-bca8-0d325b2b3645",
   "metadata": {
    "tags": []
   },
   "outputs": [
    {
     "data": {
      "text/plain": [
       "1       2.0\n",
       "2       2.0\n",
       "3       2.0\n",
       "4       2.0\n",
       "5       2.0\n",
       "       ... \n",
       "2569    2.0\n",
       "2570    2.0\n",
       "2571    2.0\n",
       "2572    2.0\n",
       "2573    2.0\n",
       "Name: diabete, Length: 2427, dtype: category\n",
       "Categories (2, float64): [1.0, 2.0]"
      ]
     },
     "execution_count": 135,
     "metadata": {},
     "output_type": "execute_result"
    }
   ],
   "source": [
    "data['diabete'].fillna(data['diabete'].mode(), inplace=False)"
   ]
  },
  {
   "cell_type": "code",
   "execution_count": 138,
   "id": "1a4c7a54-f54b-43e9-abb0-7e86dffade3b",
   "metadata": {
    "tags": []
   },
   "outputs": [],
   "source": [
    "data = data.dropna()"
   ]
  },
  {
   "cell_type": "code",
   "execution_count": 139,
   "id": "c77573e7-8cf4-4489-a6fa-b657aab63bd3",
   "metadata": {
    "tags": []
   },
   "outputs": [
    {
     "name": "stdout",
     "output_type": "stream",
     "text": [
      "\n",
      "Distribuição da variável alvo:\n"
     ]
    },
    {
     "data": {
      "image/png": "[encoded data removed]",
      "text/plain": [
       "<Figure size 800x600 with 1 Axes>"
      ]
     },
     "metadata": {},
     "output_type": "display_data"
    }
   ],
   "source": [
    "print(\"\\nDistribuição da variável alvo:\")\n",
    "data['Q124'].value_counts()\n",
    "\n",
    "# Visualizando a distribuição da variável alvo\n",
    "plt.figure(figsize=(8, 6))\n",
    "sns.countplot(x='Q124', data=data)\n",
    "plt.title('Distribuição da Variável Alvo')\n",
    "plt.xlabel('Deficiência Renal Crônica')\n",
    "plt.show()"
   ]
  },
  {
   "cell_type": "code",
   "execution_count": 140,
   "id": "5fd126d6-9eaf-4eb0-af47-4146714a96a2",
   "metadata": {
    "tags": []
   },
   "outputs": [],
   "source": [
    "from sklearn.ensemble import RandomForestClassifier"
   ]
  },
  {
   "cell_type": "code",
   "execution_count": 141,
   "id": "f15d760c-ac16-4672-bfa6-ddc6f0dcddc9",
   "metadata": {
    "tags": []
   },
   "outputs": [],
   "source": [
    "X = data.drop('Q124', axis=1)  # Features\n",
    "y = data['Q124']  # Variável alvo\n",
    "\n",
    "X_train, X_test, y_train, y_test = train_test_split(X, y, test_size=0.2, random_state=42)"
   ]
  },
  {
   "cell_type": "code",
   "execution_count": 142,
   "id": "2470f3f3-c1fe-419d-aa9e-56fab9ca7aab",
   "metadata": {
    "tags": []
   },
   "outputs": [
    {
     "name": "stdout",
     "output_type": "stream",
     "text": [
      "Acurácia do modelo: 0.987012987012987\n"
     ]
    }
   ],
   "source": [
    "\n",
    "modelo = RandomForestClassifier()\n",
    "modelo.fit(X_train, y_train)\n",
    "\n",
    "# Avaliando o modelo\n",
    "accuracy = modelo.score(X_test, y_test)\n",
    "print(\"Acurácia do modelo:\", accuracy)\n"
   ]
  },
  {
   "cell_type": "code",
   "execution_count": 145,
   "id": "8187c700-1914-40dd-a2f6-a5d08c0de784",
   "metadata": {
    "tags": []
   },
   "outputs": [],
   "source": [
    "previsoes = modelo.predict(X_test)"
   ]
  },
  {
   "cell_type": "code",
   "execution_count": 147,
   "id": "28262c2d-14e7-45d5-b9d4-a17087696d04",
   "metadata": {
    "tags": []
   },
   "outputs": [
    {
     "name": "stdout",
     "output_type": "stream",
     "text": [
      "Collecting yellowbrick\n",
      "  Obtaining dependency information for yellowbrick from https://files.pythonhosted.org/packages/06/35/c7d44bb541c06bc41b3239b27af79ea0ecc7dbb156ee1335576f99c58b91/yellowbrick-1.5-py3-none-any.whl.metadata\n",
      "  Downloading yellowbrick-1.5-py3-none-any.whl.metadata (7.7 kB)\n",
      "Requirement already satisfied: matplotlib!=3.0.0,>=2.0.2 in c:\\users\\y044771\\appdata\\local\\anaconda3\\lib\\site-packages (from yellowbrick) (3.7.2)\n",
      "Requirement already satisfied: scipy>=1.0.0 in c:\\users\\y044771\\appdata\\local\\anaconda3\\lib\\site-packages (from yellowbrick) (1.11.1)\n",
      "Requirement already satisfied: scikit-learn>=1.0.0 in c:\\users\\y044771\\appdata\\local\\anaconda3\\lib\\site-packages (from yellowbrick) (1.3.0)\n",
      "Requirement already satisfied: numpy>=1.16.0 in c:\\users\\y044771\\appdata\\local\\anaconda3\\lib\\site-packages (from yellowbrick) (1.24.3)\n",
      "Requirement already satisfied: cycler>=0.10.0 in c:\\users\\y044771\\appdata\\local\\anaconda3\\lib\\site-packages (from yellowbrick) (0.11.0)\n",
      "Requirement already satisfied: contourpy>=1.0.1 in c:\\users\\y044771\\appdata\\local\\anaconda3\\lib\\site-packages (from matplotlib!=3.0.0,>=2.0.2->yellowbrick) (1.0.5)\n",
      "Requirement already satisfied: fonttools>=4.22.0 in c:\\users\\y044771\\appdata\\local\\anaconda3\\lib\\site-packages (from matplotlib!=3.0.0,>=2.0.2->yellowbrick) (4.25.0)\n",
      "Requirement already satisfied: kiwisolver>=1.0.1 in c:\\users\\y044771\\appdata\\local\\anaconda3\\lib\\site-packages (from matplotlib!=3.0.0,>=2.0.2->yellowbrick) (1.4.4)\n",
      "Requirement already satisfied: packaging>=20.0 in c:\\users\\y044771\\appdata\\local\\anaconda3\\lib\\site-packages (from matplotlib!=3.0.0,>=2.0.2->yellowbrick) (23.1)\n",
      "Requirement already satisfied: pillow>=6.2.0 in c:\\users\\y044771\\appdata\\local\\anaconda3\\lib\\site-packages (from matplotlib!=3.0.0,>=2.0.2->yellowbrick) (9.4.0)\n",
      "Requirement already satisfied: pyparsing<3.1,>=2.3.1 in c:\\users\\y044771\\appdata\\local\\anaconda3\\lib\\site-packages (from matplotlib!=3.0.0,>=2.0.2->yellowbrick) (3.0.9)\n",
      "Requirement already satisfied: python-dateutil>=2.7 in c:\\users\\y044771\\appdata\\local\\anaconda3\\lib\\site-packages (from matplotlib!=3.0.0,>=2.0.2->yellowbrick) (2.8.2)\n",
      "Requirement already satisfied: joblib>=1.1.1 in c:\\users\\y044771\\appdata\\local\\anaconda3\\lib\\site-packages (from scikit-learn>=1.0.0->yellowbrick) (1.2.0)\n",
      "Requirement already satisfied: threadpoolctl>=2.0.0 in c:\\users\\y044771\\appdata\\local\\anaconda3\\lib\\site-packages (from scikit-learn>=1.0.0->yellowbrick) (2.2.0)\n",
      "Requirement already satisfied: six>=1.5 in c:\\users\\y044771\\appdata\\local\\anaconda3\\lib\\site-packages (from python-dateutil>=2.7->matplotlib!=3.0.0,>=2.0.2->yellowbrick) (1.16.0)\n",
      "Downloading yellowbrick-1.5-py3-none-any.whl (282 kB)\n",
      "   ---------------------------------------- 0.0/282.6 kB ? eta -:--:--\n",
      "   ----- --------------------------------- 41.0/282.6 kB 991.0 kB/s eta 0:00:01\n",
      "   ------- ------------------------------- 51.2/282.6 kB 650.2 kB/s eta 0:00:01\n",
      "   ----------- --------------------------- 81.9/282.6 kB 651.6 kB/s eta 0:00:01\n",
      "   ------------- ------------------------ 102.4/282.6 kB 653.6 kB/s eta 0:00:01\n",
      "   ------------------- ------------------ 143.4/282.6 kB 607.9 kB/s eta 0:00:01\n",
      "   ----------------------- -------------- 174.1/282.6 kB 615.9 kB/s eta 0:00:01\n",
      "   ------------------------------ ------- 225.3/282.6 kB 687.0 kB/s eta 0:00:01\n",
      "   -------------------------------------  276.5/282.6 kB 739.6 kB/s eta 0:00:01\n",
      "   -------------------------------------- 282.6/282.6 kB 696.6 kB/s eta 0:00:00\n",
      "Installing collected packages: yellowbrick\n",
      "Successfully installed yellowbrick-1.5\n"
     ]
    }
   ],
   "source": [
    "!pip install yellowbrick"
   ]
  },
  {
   "cell_type": "code",
   "execution_count": 148,
   "id": "01f7ce7c-aec9-477c-a31a-5b8979e41f1d",
   "metadata": {
    "tags": []
   },
   "outputs": [
    {
     "name": "stderr",
     "output_type": "stream",
     "text": [
      "C:\\Users\\Y044771\\AppData\\Local\\anaconda3\\Lib\\site-packages\\sklearn\\base.py:464: UserWarning: X does not have valid feature names, but RandomForestClassifier was fitted with feature names\n",
      "  warnings.warn(\n"
     ]
    },
    {
     "data": {
      "text/plain": [
       "0.987012987012987"
      ]
     },
     "execution_count": 148,
     "metadata": {},
     "output_type": "execute_result"
    },
    {
     "data": {
      "image/png": "[encoded data removed]",
      "text/plain": [
       "<Figure size 800x550 with 1 Axes>"
      ]
     },
     "metadata": {},
     "output_type": "display_data"
    }
   ],
   "source": [
    "from yellowbrick.classifier import ConfusionMatrix\n",
    "confusion_matrix(y_test, previsoes)\n",
    "cm = ConfusionMatrix(modelo)\n",
    "cm.fit(X_train, y_train)\n",
    "cm.score(X_test, y_test)"
   ]
  },
  {
   "cell_type": "code",
   "execution_count": 152,
   "id": "9c39f713-98c3-42a2-af2b-e66f8702a6c2",
   "metadata": {
    "tags": []
   },
   "outputs": [
    {
     "name": "stdout",
     "output_type": "stream",
     "text": [
      "Métricas de Desempenho do Modelo de Árvore de Decisão:\n",
      "Acurácia: 0.987012987012987\n",
      "Precisão: 1.0\n",
      "Recall: 0.9755102040816327\n",
      "Pontuação F1: 0.9876033057851239\n",
      "\n",
      "Matriz de Confusão:\n",
      "[[239   6]\n",
      " [  0 217]]\n"
     ]
    }
   ],
   "source": [
    "y_pred_forest = modelo.predict(X_test)\n",
    "\n",
    "accuracy_tree = accuracy_score(y_test, y_pred_forest)\n",
    "precision_tree = precision_score(y_test, y_pred_forest)\n",
    "recall_tree = recall_score(y_test, y_pred_forest)\n",
    "f1_tree = f1_score(y_test, y_pred_forest)\n",
    "conf_matrix_tree = confusion_matrix(y_test, y_pred_forest)\n",
    "\n",
    "print(\"Métricas de Desempenho do Modelo de Árvore de Decisão:\")\n",
    "print(f\"Acurácia: {accuracy_tree}\")\n",
    "print(f\"Precisão: {precision_tree}\")\n",
    "print(f\"Recall: {recall_tree}\")\n",
    "print(f\"Pontuação F1: {f1_tree}\")\n",
    "print(\"\\nMatriz de Confusão:\")\n",
    "print(conf_matrix_tree)"
   ]
  },
  {
   "cell_type": "code",
   "execution_count": null,
   "id": "062d8cac-e696-4a0b-b34d-2a6a7f031411",
   "metadata": {},
   "outputs": [],
   "source": []
  }
 ],
 "metadata": {
  "kernelspec": {
   "display_name": "Python 3 (ipykernel)",
   "language": "python",
   "name": "python3"
  },
  "language_info": {
   "codemirror_mode": {
    "name": "ipython",
    "version": 3
   },
   "file_extension": ".py",
   "mimetype": "text/x-python",
   "name": "python",
   "nbconvert_exporter": "python",
   "pygments_lexer": "ipython3",
   "version": "3.11.5"
  }
 },
 "nbformat": 4,
 "nbformat_minor": 5
}
