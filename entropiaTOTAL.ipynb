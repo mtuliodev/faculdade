{
 "cells": [
  {
   "cell_type": "code",
   "execution_count": 1,
   "id": "87211254-de7c-46e5-9e94-9ef74a934416",
   "metadata": {
    "tags": []
   },
   "outputs": [],
   "source": [
    "import pandas as pd"
   ]
  },
  {
   "cell_type": "code",
   "execution_count": 2,
   "id": "48387d09-27e5-4974-8c93-ca686a228de2",
   "metadata": {
    "tags": []
   },
   "outputs": [],
   "source": [
    "data = pd.read_excel('TOTAL drc.xlsx')"
   ]
  },
  {
   "cell_type": "code",
   "execution_count": 3,
   "id": "fa2f4db7-defa-4d60-badf-dda3488bdfde",
   "metadata": {
    "tags": []
   },
   "outputs": [
    {
     "data": {
      "text/html": [
       "<div>\n",
       "<style scoped>\n",
       "    .dataframe tbody tr th:only-of-type {\n",
       "        vertical-align: middle;\n",
       "    }\n",
       "\n",
       "    .dataframe tbody tr th {\n",
       "        vertical-align: top;\n",
       "    }\n",
       "\n",
       "    .dataframe thead th {\n",
       "        text-align: right;\n",
       "    }\n",
       "</style>\n",
       "<table border=\"1\" class=\"dataframe\">\n",
       "  <thead>\n",
       "    <tr style=\"text-align: right;\">\n",
       "      <th></th>\n",
       "      <th>V0001</th>\n",
       "      <th>V0026</th>\n",
       "      <th>V0031</th>\n",
       "      <th>A005010</th>\n",
       "      <th>A009010</th>\n",
       "      <th>A01501</th>\n",
       "      <th>C006</th>\n",
       "      <th>C008</th>\n",
       "      <th>C009</th>\n",
       "      <th>I00102</th>\n",
       "      <th>...</th>\n",
       "      <th>S083</th>\n",
       "      <th>T004</th>\n",
       "      <th>T005</th>\n",
       "      <th>Y001</th>\n",
       "      <th>Y00101</th>\n",
       "      <th>Y002</th>\n",
       "      <th>Y003</th>\n",
       "      <th>Y004</th>\n",
       "      <th>H001</th>\n",
       "      <th>VDR001</th>\n",
       "    </tr>\n",
       "  </thead>\n",
       "  <tbody>\n",
       "    <tr>\n",
       "      <th>0</th>\n",
       "      <td>11</td>\n",
       "      <td>1</td>\n",
       "      <td>1</td>\n",
       "      <td>2</td>\n",
       "      <td>1</td>\n",
       "      <td>3.0</td>\n",
       "      <td>1</td>\n",
       "      <td>61</td>\n",
       "      <td>1</td>\n",
       "      <td>2</td>\n",
       "      <td>...</td>\n",
       "      <td>NaN</td>\n",
       "      <td>2</td>\n",
       "      <td>NaN</td>\n",
       "      <td>4.0</td>\n",
       "      <td>NaN</td>\n",
       "      <td>3.0</td>\n",
       "      <td>NaN</td>\n",
       "      <td>NaN</td>\n",
       "      <td>4.0</td>\n",
       "      <td>NaN</td>\n",
       "    </tr>\n",
       "    <tr>\n",
       "      <th>1</th>\n",
       "      <td>11</td>\n",
       "      <td>1</td>\n",
       "      <td>1</td>\n",
       "      <td>1</td>\n",
       "      <td>1</td>\n",
       "      <td>1.0</td>\n",
       "      <td>2</td>\n",
       "      <td>57</td>\n",
       "      <td>4</td>\n",
       "      <td>2</td>\n",
       "      <td>...</td>\n",
       "      <td>NaN</td>\n",
       "      <td>2</td>\n",
       "      <td>NaN</td>\n",
       "      <td>3.0</td>\n",
       "      <td>NaN</td>\n",
       "      <td>3.0</td>\n",
       "      <td>NaN</td>\n",
       "      <td>NaN</td>\n",
       "      <td>4.0</td>\n",
       "      <td>NaN</td>\n",
       "    </tr>\n",
       "    <tr>\n",
       "      <th>2</th>\n",
       "      <td>11</td>\n",
       "      <td>1</td>\n",
       "      <td>1</td>\n",
       "      <td>2</td>\n",
       "      <td>5</td>\n",
       "      <td>4.0</td>\n",
       "      <td>2</td>\n",
       "      <td>21</td>\n",
       "      <td>4</td>\n",
       "      <td>1</td>\n",
       "      <td>...</td>\n",
       "      <td>NaN</td>\n",
       "      <td>2</td>\n",
       "      <td>NaN</td>\n",
       "      <td>1.0</td>\n",
       "      <td>16.0</td>\n",
       "      <td>1.0</td>\n",
       "      <td>2.0</td>\n",
       "      <td>1.0</td>\n",
       "      <td>1.0</td>\n",
       "      <td>6.0</td>\n",
       "    </tr>\n",
       "    <tr>\n",
       "      <th>3</th>\n",
       "      <td>11</td>\n",
       "      <td>1</td>\n",
       "      <td>1</td>\n",
       "      <td>2</td>\n",
       "      <td>1</td>\n",
       "      <td>3.0</td>\n",
       "      <td>2</td>\n",
       "      <td>41</td>\n",
       "      <td>2</td>\n",
       "      <td>2</td>\n",
       "      <td>...</td>\n",
       "      <td>NaN</td>\n",
       "      <td>2</td>\n",
       "      <td>NaN</td>\n",
       "      <td>4.0</td>\n",
       "      <td>NaN</td>\n",
       "      <td>1.0</td>\n",
       "      <td>3.0</td>\n",
       "      <td>NaN</td>\n",
       "      <td>3.0</td>\n",
       "      <td>NaN</td>\n",
       "    </tr>\n",
       "    <tr>\n",
       "      <th>4</th>\n",
       "      <td>11</td>\n",
       "      <td>1</td>\n",
       "      <td>1</td>\n",
       "      <td>2</td>\n",
       "      <td>1</td>\n",
       "      <td>3.0</td>\n",
       "      <td>1</td>\n",
       "      <td>51</td>\n",
       "      <td>2</td>\n",
       "      <td>2</td>\n",
       "      <td>...</td>\n",
       "      <td>NaN</td>\n",
       "      <td>2</td>\n",
       "      <td>NaN</td>\n",
       "      <td>4.0</td>\n",
       "      <td>NaN</td>\n",
       "      <td>2.0</td>\n",
       "      <td>NaN</td>\n",
       "      <td>NaN</td>\n",
       "      <td>2.0</td>\n",
       "      <td>NaN</td>\n",
       "    </tr>\n",
       "    <tr>\n",
       "      <th>...</th>\n",
       "      <td>...</td>\n",
       "      <td>...</td>\n",
       "      <td>...</td>\n",
       "      <td>...</td>\n",
       "      <td>...</td>\n",
       "      <td>...</td>\n",
       "      <td>...</td>\n",
       "      <td>...</td>\n",
       "      <td>...</td>\n",
       "      <td>...</td>\n",
       "      <td>...</td>\n",
       "      <td>...</td>\n",
       "      <td>...</td>\n",
       "      <td>...</td>\n",
       "      <td>...</td>\n",
       "      <td>...</td>\n",
       "      <td>...</td>\n",
       "      <td>...</td>\n",
       "      <td>...</td>\n",
       "      <td>...</td>\n",
       "      <td>...</td>\n",
       "    </tr>\n",
       "    <tr>\n",
       "      <th>2569</th>\n",
       "      <td>53</td>\n",
       "      <td>1</td>\n",
       "      <td>1</td>\n",
       "      <td>1</td>\n",
       "      <td>1</td>\n",
       "      <td>1.0</td>\n",
       "      <td>2</td>\n",
       "      <td>62</td>\n",
       "      <td>4</td>\n",
       "      <td>2</td>\n",
       "      <td>...</td>\n",
       "      <td>NaN</td>\n",
       "      <td>2</td>\n",
       "      <td>NaN</td>\n",
       "      <td>3.0</td>\n",
       "      <td>NaN</td>\n",
       "      <td>2.0</td>\n",
       "      <td>NaN</td>\n",
       "      <td>NaN</td>\n",
       "      <td>1.0</td>\n",
       "      <td>NaN</td>\n",
       "    </tr>\n",
       "    <tr>\n",
       "      <th>2570</th>\n",
       "      <td>53</td>\n",
       "      <td>1</td>\n",
       "      <td>1</td>\n",
       "      <td>1</td>\n",
       "      <td>1</td>\n",
       "      <td>1.0</td>\n",
       "      <td>2</td>\n",
       "      <td>69</td>\n",
       "      <td>4</td>\n",
       "      <td>2</td>\n",
       "      <td>...</td>\n",
       "      <td>NaN</td>\n",
       "      <td>2</td>\n",
       "      <td>NaN</td>\n",
       "      <td>3.0</td>\n",
       "      <td>NaN</td>\n",
       "      <td>1.0</td>\n",
       "      <td>3.0</td>\n",
       "      <td>NaN</td>\n",
       "      <td>1.0</td>\n",
       "      <td>NaN</td>\n",
       "    </tr>\n",
       "    <tr>\n",
       "      <th>2571</th>\n",
       "      <td>53</td>\n",
       "      <td>1</td>\n",
       "      <td>1</td>\n",
       "      <td>1</td>\n",
       "      <td>6</td>\n",
       "      <td>1.0</td>\n",
       "      <td>2</td>\n",
       "      <td>49</td>\n",
       "      <td>4</td>\n",
       "      <td>2</td>\n",
       "      <td>...</td>\n",
       "      <td>NaN</td>\n",
       "      <td>2</td>\n",
       "      <td>NaN</td>\n",
       "      <td>1.0</td>\n",
       "      <td>17.0</td>\n",
       "      <td>2.0</td>\n",
       "      <td>NaN</td>\n",
       "      <td>NaN</td>\n",
       "      <td>3.0</td>\n",
       "      <td>NaN</td>\n",
       "    </tr>\n",
       "    <tr>\n",
       "      <th>2572</th>\n",
       "      <td>53</td>\n",
       "      <td>1</td>\n",
       "      <td>1</td>\n",
       "      <td>1</td>\n",
       "      <td>1</td>\n",
       "      <td>1.0</td>\n",
       "      <td>1</td>\n",
       "      <td>37</td>\n",
       "      <td>4</td>\n",
       "      <td>1</td>\n",
       "      <td>...</td>\n",
       "      <td>NaN</td>\n",
       "      <td>2</td>\n",
       "      <td>NaN</td>\n",
       "      <td>1.0</td>\n",
       "      <td>11.0</td>\n",
       "      <td>1.0</td>\n",
       "      <td>3.0</td>\n",
       "      <td>NaN</td>\n",
       "      <td>4.0</td>\n",
       "      <td>NaN</td>\n",
       "    </tr>\n",
       "    <tr>\n",
       "      <th>2573</th>\n",
       "      <td>53</td>\n",
       "      <td>1</td>\n",
       "      <td>1</td>\n",
       "      <td>1</td>\n",
       "      <td>1</td>\n",
       "      <td>3.0</td>\n",
       "      <td>1</td>\n",
       "      <td>74</td>\n",
       "      <td>1</td>\n",
       "      <td>2</td>\n",
       "      <td>...</td>\n",
       "      <td>NaN</td>\n",
       "      <td>2</td>\n",
       "      <td>NaN</td>\n",
       "      <td>3.0</td>\n",
       "      <td>NaN</td>\n",
       "      <td>2.0</td>\n",
       "      <td>NaN</td>\n",
       "      <td>NaN</td>\n",
       "      <td>2.0</td>\n",
       "      <td>NaN</td>\n",
       "    </tr>\n",
       "  </tbody>\n",
       "</table>\n",
       "<p>2574 rows × 66 columns</p>\n",
       "</div>"
      ],
      "text/plain": [
       "      V0001  V0026  V0031  A005010  A009010  A01501  C006  C008  C009  I00102  \\\n",
       "0        11      1      1        2        1     3.0     1    61     1       2   \n",
       "1        11      1      1        1        1     1.0     2    57     4       2   \n",
       "2        11      1      1        2        5     4.0     2    21     4       1   \n",
       "3        11      1      1        2        1     3.0     2    41     2       2   \n",
       "4        11      1      1        2        1     3.0     1    51     2       2   \n",
       "...     ...    ...    ...      ...      ...     ...   ...   ...   ...     ...   \n",
       "2569     53      1      1        1        1     1.0     2    62     4       2   \n",
       "2570     53      1      1        1        1     1.0     2    69     4       2   \n",
       "2571     53      1      1        1        6     1.0     2    49     4       2   \n",
       "2572     53      1      1        1        1     1.0     1    37     4       1   \n",
       "2573     53      1      1        1        1     3.0     1    74     1       2   \n",
       "\n",
       "      ...  S083  T004  T005  Y001  Y00101  Y002  Y003  Y004  H001  VDR001  \n",
       "0     ...   NaN     2   NaN   4.0     NaN   3.0   NaN   NaN   4.0     NaN  \n",
       "1     ...   NaN     2   NaN   3.0     NaN   3.0   NaN   NaN   4.0     NaN  \n",
       "2     ...   NaN     2   NaN   1.0    16.0   1.0   2.0   1.0   1.0     6.0  \n",
       "3     ...   NaN     2   NaN   4.0     NaN   1.0   3.0   NaN   3.0     NaN  \n",
       "4     ...   NaN     2   NaN   4.0     NaN   2.0   NaN   NaN   2.0     NaN  \n",
       "...   ...   ...   ...   ...   ...     ...   ...   ...   ...   ...     ...  \n",
       "2569  ...   NaN     2   NaN   3.0     NaN   2.0   NaN   NaN   1.0     NaN  \n",
       "2570  ...   NaN     2   NaN   3.0     NaN   1.0   3.0   NaN   1.0     NaN  \n",
       "2571  ...   NaN     2   NaN   1.0    17.0   2.0   NaN   NaN   3.0     NaN  \n",
       "2572  ...   NaN     2   NaN   1.0    11.0   1.0   3.0   NaN   4.0     NaN  \n",
       "2573  ...   NaN     2   NaN   3.0     NaN   2.0   NaN   NaN   2.0     NaN  \n",
       "\n",
       "[2574 rows x 66 columns]"
      ]
     },
     "execution_count": 3,
     "metadata": {},
     "output_type": "execute_result"
    }
   ],
   "source": [
    "data"
   ]
  },
  {
   "cell_type": "code",
   "execution_count": 4,
   "id": "6b2bdd88-a138-4351-b178-d5d3813c3276",
   "metadata": {
    "tags": []
   },
   "outputs": [
    {
     "data": {
      "text/plain": [
       "Index(['V0001', 'V0026', 'V0031', 'A005010', 'A009010', 'A01501', 'C006',\n",
       "       'C008', 'C009', 'I00102', 'J01101', 'J012', 'M01601', 'N001', 'N00101',\n",
       "       'N004', 'N005', 'N010', 'N011', 'N012', 'N013', 'N014', 'N015', 'N016',\n",
       "       'P00102', 'P00104', 'P00404', 'P02601', 'P027', 'P02801', 'P029',\n",
       "       'P03201', 'P03202', 'P034', 'P035', 'P036', 'P038', 'P04501', 'P04502',\n",
       "       'P050', 'P051', 'P052', 'P053', 'P05401', 'P05402', 'P06701', 'Q00101',\n",
       "       'Q00201', 'Q074', 'Q124', 'Q003', 'Q03001', 'Q031', 'Q06306', 'Q064',\n",
       "       'S082', 'S083', 'T004', 'T005', 'Y001', 'Y00101', 'Y002', 'Y003',\n",
       "       'Y004', 'H001', 'VDR001'],\n",
       "      dtype='object')"
      ]
     },
     "execution_count": 4,
     "metadata": {},
     "output_type": "execute_result"
    }
   ],
   "source": [
    "data.columns"
   ]
  },
  {
   "cell_type": "code",
   "execution_count": 5,
   "id": "c1a05d5a-ddbf-40c5-8c68-cdd86a905331",
   "metadata": {
    "tags": []
   },
   "outputs": [],
   "source": [
    "data.drop(columns=['V0001','C008'], inplace=True)"
   ]
  },
  {
   "cell_type": "code",
   "execution_count": 6,
   "id": "d16b69fe-ccb7-4ba1-b1cc-8c78794b4287",
   "metadata": {
    "tags": []
   },
   "outputs": [
    {
     "data": {
      "text/plain": [
       "N001\n",
       "2    982\n",
       "3    957\n",
       "4    323\n",
       "1    230\n",
       "5     82\n",
       "Name: count, dtype: int64"
      ]
     },
     "execution_count": 6,
     "metadata": {},
     "output_type": "execute_result"
    }
   ],
   "source": [
    "data['N001'].value_counts()"
   ]
  },
  {
   "cell_type": "code",
   "execution_count": 7,
   "id": "db973509-bf73-4e4b-991d-191c68993e92",
   "metadata": {
    "tags": []
   },
   "outputs": [
    {
     "data": {
      "text/plain": [
       "N00101\n",
       "2    1331\n",
       "3     689\n",
       "1     315\n",
       "4     194\n",
       "5      45\n",
       "Name: count, dtype: int64"
      ]
     },
     "execution_count": 7,
     "metadata": {},
     "output_type": "execute_result"
    }
   ],
   "source": [
    "data['N00101'].value_counts()"
   ]
  },
  {
   "cell_type": "code",
   "execution_count": 8,
   "id": "5638846b-2024-446e-b4fe-aafef785a6e1",
   "metadata": {
    "tags": []
   },
   "outputs": [
    {
     "data": {
      "text/plain": [
       "T005\n",
       "1.0    14\n",
       "2.0     1\n",
       "Name: count, dtype: int64"
      ]
     },
     "execution_count": 8,
     "metadata": {},
     "output_type": "execute_result"
    }
   ],
   "source": [
    "data['T005'].value_counts()"
   ]
  },
  {
   "cell_type": "code",
   "execution_count": 9,
   "id": "ff37fed0-b1f1-4852-bb1c-98443d993660",
   "metadata": {
    "tags": []
   },
   "outputs": [
    {
     "data": {
      "text/html": [
       "<style type=\"text/css\">\n",
       "</style>\n",
       "<table id=\"T_f6793\">\n",
       "  <thead>\n",
       "    <tr>\n",
       "      <th class=\"blank level0\" >&nbsp;</th>\n",
       "      <th id=\"T_f6793_level0_col0\" class=\"col_heading level0 col0\" >% Valores Nulos</th>\n",
       "    </tr>\n",
       "  </thead>\n",
       "  <tbody>\n",
       "    <tr>\n",
       "      <th id=\"T_f6793_level0_row0\" class=\"row_heading level0 row0\" >S083</th>\n",
       "      <td id=\"T_f6793_row0_col0\" class=\"data row0 col0\" >100.00%</td>\n",
       "    </tr>\n",
       "    <tr>\n",
       "      <th id=\"T_f6793_level0_row1\" class=\"row_heading level0 row1\" >T005</th>\n",
       "      <td id=\"T_f6793_row1_col0\" class=\"data row1 col0\" >99.42%</td>\n",
       "    </tr>\n",
       "    <tr>\n",
       "      <th id=\"T_f6793_level0_row2\" class=\"row_heading level0 row2\" >P051</th>\n",
       "      <td id=\"T_f6793_row2_col0\" class=\"data row2 col0\" >98.80%</td>\n",
       "    </tr>\n",
       "    <tr>\n",
       "      <th id=\"T_f6793_level0_row3\" class=\"row_heading level0 row3\" >S082</th>\n",
       "      <td id=\"T_f6793_row3_col0\" class=\"data row3 col0\" >97.71%</td>\n",
       "    </tr>\n",
       "    <tr>\n",
       "      <th id=\"T_f6793_level0_row4\" class=\"row_heading level0 row4\" >P05402</th>\n",
       "      <td id=\"T_f6793_row4_col0\" class=\"data row4 col0\" >92.04%</td>\n",
       "    </tr>\n",
       "    <tr>\n",
       "      <th id=\"T_f6793_level0_row5\" class=\"row_heading level0 row5\" >Q064</th>\n",
       "      <td id=\"T_f6793_row5_col0\" class=\"data row5 col0\" >88.50%</td>\n",
       "    </tr>\n",
       "    <tr>\n",
       "      <th id=\"T_f6793_level0_row6\" class=\"row_heading level0 row6\" >P05401</th>\n",
       "      <td id=\"T_f6793_row6_col0\" class=\"data row6 col0\" >87.72%</td>\n",
       "    </tr>\n",
       "    <tr>\n",
       "      <th id=\"T_f6793_level0_row7\" class=\"row_heading level0 row7\" >P03202</th>\n",
       "      <td id=\"T_f6793_row7_col0\" class=\"data row7 col0\" >87.33%</td>\n",
       "    </tr>\n",
       "    <tr>\n",
       "      <th id=\"T_f6793_level0_row8\" class=\"row_heading level0 row8\" >Q031</th>\n",
       "      <td id=\"T_f6793_row8_col0\" class=\"data row8 col0\" >86.71%</td>\n",
       "    </tr>\n",
       "    <tr>\n",
       "      <th id=\"T_f6793_level0_row9\" class=\"row_heading level0 row9\" >VDR001</th>\n",
       "      <td id=\"T_f6793_row9_col0\" class=\"data row9 col0\" >83.14%</td>\n",
       "    </tr>\n",
       "    <tr>\n",
       "      <th id=\"T_f6793_level0_row10\" class=\"row_heading level0 row10\" >P02801</th>\n",
       "      <td id=\"T_f6793_row10_col0\" class=\"data row10 col0\" >80.26%</td>\n",
       "    </tr>\n",
       "    <tr>\n",
       "      <th id=\"T_f6793_level0_row11\" class=\"row_heading level0 row11\" >Y004</th>\n",
       "      <td id=\"T_f6793_row11_col0\" class=\"data row11 col0\" >73.54%</td>\n",
       "    </tr>\n",
       "    <tr>\n",
       "      <th id=\"T_f6793_level0_row12\" class=\"row_heading level0 row12\" >P029</th>\n",
       "      <td id=\"T_f6793_row12_col0\" class=\"data row12 col0\" >69.23%</td>\n",
       "    </tr>\n",
       "    <tr>\n",
       "      <th id=\"T_f6793_level0_row13\" class=\"row_heading level0 row13\" >P03201</th>\n",
       "      <td id=\"T_f6793_row13_col0\" class=\"data row13 col0\" >69.23%</td>\n",
       "    </tr>\n",
       "    <tr>\n",
       "      <th id=\"T_f6793_level0_row14\" class=\"row_heading level0 row14\" >P036</th>\n",
       "      <td id=\"T_f6793_row14_col0\" class=\"data row14 col0\" >64.88%</td>\n",
       "    </tr>\n",
       "    <tr>\n",
       "      <th id=\"T_f6793_level0_row15\" class=\"row_heading level0 row15\" >Q003</th>\n",
       "      <td id=\"T_f6793_row15_col0\" class=\"data row15 col0\" >64.80%</td>\n",
       "    </tr>\n",
       "    <tr>\n",
       "      <th id=\"T_f6793_level0_row16\" class=\"row_heading level0 row16\" >P035</th>\n",
       "      <td id=\"T_f6793_row16_col0\" class=\"data row16 col0\" >63.21%</td>\n",
       "    </tr>\n",
       "    <tr>\n",
       "      <th id=\"T_f6793_level0_row17\" class=\"row_heading level0 row17\" >P053</th>\n",
       "      <td id=\"T_f6793_row17_col0\" class=\"data row17 col0\" >63.01%</td>\n",
       "    </tr>\n",
       "    <tr>\n",
       "      <th id=\"T_f6793_level0_row18\" class=\"row_heading level0 row18\" >P038</th>\n",
       "      <td id=\"T_f6793_row18_col0\" class=\"data row18 col0\" >47.01%</td>\n",
       "    </tr>\n",
       "    <tr>\n",
       "      <th id=\"T_f6793_level0_row19\" class=\"row_heading level0 row19\" >Y003</th>\n",
       "      <td id=\"T_f6793_row19_col0\" class=\"data row19 col0\" >34.73%</td>\n",
       "    </tr>\n",
       "    <tr>\n",
       "      <th id=\"T_f6793_level0_row20\" class=\"row_heading level0 row20\" >Y00101</th>\n",
       "      <td id=\"T_f6793_row20_col0\" class=\"data row20 col0\" >21.95%</td>\n",
       "    </tr>\n",
       "    <tr>\n",
       "      <th id=\"T_f6793_level0_row21\" class=\"row_heading level0 row21\" >J012</th>\n",
       "      <td id=\"T_f6793_row21_col0\" class=\"data row21 col0\" >17.02%</td>\n",
       "    </tr>\n",
       "    <tr>\n",
       "      <th id=\"T_f6793_level0_row22\" class=\"row_heading level0 row22\" >P052</th>\n",
       "      <td id=\"T_f6793_row22_col0\" class=\"data row22 col0\" >12.28%</td>\n",
       "    </tr>\n",
       "    <tr>\n",
       "      <th id=\"T_f6793_level0_row23\" class=\"row_heading level0 row23\" >Q03001</th>\n",
       "      <td id=\"T_f6793_row23_col0\" class=\"data row23 col0\" >5.94%</td>\n",
       "    </tr>\n",
       "    <tr>\n",
       "      <th id=\"T_f6793_level0_row24\" class=\"row_heading level0 row24\" >N005</th>\n",
       "      <td id=\"T_f6793_row24_col0\" class=\"data row24 col0\" >4.43%</td>\n",
       "    </tr>\n",
       "    <tr>\n",
       "      <th id=\"T_f6793_level0_row25\" class=\"row_heading level0 row25\" >N004</th>\n",
       "      <td id=\"T_f6793_row25_col0\" class=\"data row25 col0\" >4.43%</td>\n",
       "    </tr>\n",
       "    <tr>\n",
       "      <th id=\"T_f6793_level0_row26\" class=\"row_heading level0 row26\" >Y002</th>\n",
       "      <td id=\"T_f6793_row26_col0\" class=\"data row26 col0\" >2.76%</td>\n",
       "    </tr>\n",
       "    <tr>\n",
       "      <th id=\"T_f6793_level0_row27\" class=\"row_heading level0 row27\" >Y001</th>\n",
       "      <td id=\"T_f6793_row27_col0\" class=\"data row27 col0\" >1.71%</td>\n",
       "    </tr>\n",
       "    <tr>\n",
       "      <th id=\"T_f6793_level0_row28\" class=\"row_heading level0 row28\" >H001</th>\n",
       "      <td id=\"T_f6793_row28_col0\" class=\"data row28 col0\" >1.71%</td>\n",
       "    </tr>\n",
       "    <tr>\n",
       "      <th id=\"T_f6793_level0_row29\" class=\"row_heading level0 row29\" >Q00201</th>\n",
       "      <td id=\"T_f6793_row29_col0\" class=\"data row29 col0\" >1.28%</td>\n",
       "    </tr>\n",
       "    <tr>\n",
       "      <th id=\"T_f6793_level0_row30\" class=\"row_heading level0 row30\" >P00404</th>\n",
       "      <td id=\"T_f6793_row30_col0\" class=\"data row30 col0\" >0.78%</td>\n",
       "    </tr>\n",
       "    <tr>\n",
       "      <th id=\"T_f6793_level0_row31\" class=\"row_heading level0 row31\" >P00104</th>\n",
       "      <td id=\"T_f6793_row31_col0\" class=\"data row31 col0\" >0.78%</td>\n",
       "    </tr>\n",
       "    <tr>\n",
       "      <th id=\"T_f6793_level0_row32\" class=\"row_heading level0 row32\" >A01501</th>\n",
       "      <td id=\"T_f6793_row32_col0\" class=\"data row32 col0\" >0.58%</td>\n",
       "    </tr>\n",
       "  </tbody>\n",
       "</table>\n"
      ],
      "text/plain": [
       "<pandas.io.formats.style.Styler at 0x14e68927050>"
      ]
     },
     "execution_count": 9,
     "metadata": {},
     "output_type": "execute_result"
    }
   ],
   "source": [
    "porcentagem_null = (data.isna().sum() / data.shape[0])\n",
    "\n",
    "porcentagem_null_filt = porcentagem_null[porcentagem_null > 0]\n",
    "\n",
    "data_nulos=(\n",
    "porcentagem_null_filt.to_frame(\"% Valores Nulos\")\n",
    ".sort_values(\"% Valores Nulos\", ascending=False)\n",
    ")\n",
    "\n",
    "\n",
    "data_nulos.style.format('{:1.2%}', subset=['% Valores Nulos'])"
   ]
  },
  {
   "cell_type": "code",
   "execution_count": 12,
   "id": "79dec6b9-31a9-4eb2-9b92-a0b3c1e6ab09",
   "metadata": {
    "tags": []
   },
   "outputs": [],
   "source": [
    "#data.drop(columns=['S083','T005','P051','S082','P05402','P03202','VDR001','P02801','Q064','Q031','Y004'\n",
    "                  # ,'P03201','P05401','P029','P038','P035','P036'], inplace=True)\n",
    "\n",
    "#data.drop(columns=['P036','P053','Q003'], inplace=True)"
   ]
  },
  {
   "cell_type": "code",
   "execution_count": 13,
   "id": "64521ca6-8921-47f8-83cd-a3d458707a39",
   "metadata": {
    "tags": []
   },
   "outputs": [
    {
     "data": {
      "text/plain": [
       "Index(['V0026', 'V0031', 'A005010', 'A009010', 'A01501', 'C006', 'C009',\n",
       "       'I00102', 'J01101', 'J012', 'M01601', 'N001', 'N00101', 'N004', 'N005',\n",
       "       'N010', 'N011', 'N012', 'N013', 'N014', 'N015', 'N016', 'P00102',\n",
       "       'P00104', 'P00404', 'P02601', 'P027', 'P034', 'P04501', 'P04502',\n",
       "       'P050', 'P052', 'P053', 'P06701', 'Q00101', 'Q00201', 'Q074', 'Q124',\n",
       "       'Q003', 'Q03001', 'Q06306', 'T004', 'Y001', 'Y00101', 'Y002', 'Y003',\n",
       "       'H001'],\n",
       "      dtype='object')"
      ]
     },
     "execution_count": 13,
     "metadata": {},
     "output_type": "execute_result"
    }
   ],
   "source": [
    "data.columns"
   ]
  },
  {
   "cell_type": "code",
   "execution_count": 14,
   "id": "1cb63cf4-90a6-4b45-97fd-f5382b05ce19",
   "metadata": {
    "tags": []
   },
   "outputs": [
    {
     "name": "stdout",
     "output_type": "stream",
     "text": [
      "<class 'pandas.core.frame.DataFrame'>\n",
      "RangeIndex: 2574 entries, 0 to 2573\n",
      "Data columns (total 47 columns):\n",
      " #   Column   Non-Null Count  Dtype  \n",
      "---  ------   --------------  -----  \n",
      " 0   V0026    2574 non-null   int64  \n",
      " 1   V0031    2574 non-null   int64  \n",
      " 2   A005010  2574 non-null   int64  \n",
      " 3   A009010  2574 non-null   int64  \n",
      " 4   A01501   2559 non-null   float64\n",
      " 5   C006     2574 non-null   int64  \n",
      " 6   C009     2574 non-null   int64  \n",
      " 7   I00102   2574 non-null   int64  \n",
      " 8   J01101   2574 non-null   int64  \n",
      " 9   J012     2136 non-null   float64\n",
      " 10  M01601   2574 non-null   int64  \n",
      " 11  N001     2574 non-null   int64  \n",
      " 12  N00101   2574 non-null   int64  \n",
      " 13  N004     2460 non-null   float64\n",
      " 14  N005     2460 non-null   float64\n",
      " 15  N010     2574 non-null   int64  \n",
      " 16  N011     2574 non-null   int64  \n",
      " 17  N012     2574 non-null   int64  \n",
      " 18  N013     2574 non-null   int64  \n",
      " 19  N014     2574 non-null   int64  \n",
      " 20  N015     2574 non-null   int64  \n",
      " 21  N016     2574 non-null   int64  \n",
      " 22  P00102   2574 non-null   int64  \n",
      " 23  P00104   2554 non-null   float64\n",
      " 24  P00404   2554 non-null   float64\n",
      " 25  P02601   2574 non-null   int64  \n",
      " 26  P027     2574 non-null   int64  \n",
      " 27  P034     2574 non-null   int64  \n",
      " 28  P04501   2574 non-null   int64  \n",
      " 29  P04502   2574 non-null   int64  \n",
      " 30  P050     2574 non-null   int64  \n",
      " 31  P052     2258 non-null   float64\n",
      " 32  P053     952 non-null    float64\n",
      " 33  P06701   2574 non-null   int64  \n",
      " 34  Q00101   2574 non-null   int64  \n",
      " 35  Q00201   2541 non-null   float64\n",
      " 36  Q074     2574 non-null   int64  \n",
      " 37  Q124     2574 non-null   int64  \n",
      " 38  Q003     906 non-null    float64\n",
      " 39  Q03001   2421 non-null   float64\n",
      " 40  Q06306   2574 non-null   int64  \n",
      " 41  T004     2574 non-null   int64  \n",
      " 42  Y001     2530 non-null   float64\n",
      " 43  Y00101   2009 non-null   float64\n",
      " 44  Y002     2503 non-null   float64\n",
      " 45  Y003     1680 non-null   float64\n",
      " 46  H001     2530 non-null   float64\n",
      "dtypes: float64(16), int64(31)\n",
      "memory usage: 945.3 KB\n"
     ]
    }
   ],
   "source": [
    "data.info()"
   ]
  },
  {
   "cell_type": "code",
   "execution_count": 15,
   "id": "41d4dd46-a16a-419e-89f2-69510267298b",
   "metadata": {
    "tags": []
   },
   "outputs": [
    {
     "data": {
      "text/plain": [
       "V0026         0\n",
       "V0031         0\n",
       "A005010       0\n",
       "A009010       0\n",
       "A01501       15\n",
       "C006          0\n",
       "C009          0\n",
       "I00102        0\n",
       "J01101        0\n",
       "J012        438\n",
       "M01601        0\n",
       "N001          0\n",
       "N00101        0\n",
       "N004        114\n",
       "N005        114\n",
       "N010          0\n",
       "N011          0\n",
       "N012          0\n",
       "N013          0\n",
       "N014          0\n",
       "N015          0\n",
       "N016          0\n",
       "P00102        0\n",
       "P00104       20\n",
       "P00404       20\n",
       "P02601        0\n",
       "P027          0\n",
       "P034          0\n",
       "P04501        0\n",
       "P04502        0\n",
       "P050          0\n",
       "P052        316\n",
       "P053       1622\n",
       "P06701        0\n",
       "Q00101        0\n",
       "Q00201       33\n",
       "Q074          0\n",
       "Q124          0\n",
       "Q003       1668\n",
       "Q03001      153\n",
       "Q06306        0\n",
       "T004          0\n",
       "Y001         44\n",
       "Y00101      565\n",
       "Y002         71\n",
       "Y003        894\n",
       "H001         44\n",
       "dtype: int64"
      ]
     },
     "execution_count": 15,
     "metadata": {},
     "output_type": "execute_result"
    }
   ],
   "source": [
    "data.isna().sum()"
   ]
  },
  {
   "cell_type": "code",
   "execution_count": 18,
   "id": "c9ef50f2-398a-4305-8aa3-5c4011125781",
   "metadata": {
    "tags": []
   },
   "outputs": [],
   "source": [
    "data.drop(columns=['desconf_peito'], inplace=True)"
   ]
  },
  {
   "cell_type": "code",
   "execution_count": 17,
   "id": "58ddc863-11ce-49cb-be44-98cc842b31df",
   "metadata": {
    "tags": []
   },
   "outputs": [],
   "source": [
    "data.rename(columns={\n",
    "    'V0026':'local',\n",
    "    'V0031':'tipo_cidade',\n",
    "    'A005010':'abast_agua',\n",
    "    'A009010':'agua_usada',\n",
    "    'A01501':'esgoto',\n",
    "    'C006':'sexo',\n",
    "    'C009':'raca',\n",
    "    'I00102':'plano_saude',\n",
    "    'M01601':'freq_exercfis',\n",
    "    'J01101':'ultima_vez_med',\n",
    "    'J012':'vez_med_ult12mes',\n",
    "    'N001':'av_saude',\n",
    "    'N00101':'av_prop_saude',\n",
    "    'N004':'desconf_peito',\n",
    "    'N005':'desconf_peito',\n",
    "    'N010':'prob_sono',\n",
    "    'N011':'cansado',\n",
    "    'N012':'prazer',\n",
    "    'N013':'concentracao',\n",
    "    'N014':'falta_apetite',\n",
    "    'N015':'agitado',\n",
    "    'N016':'deprimido',\n",
    "    'P00102':'sabe_peso',\n",
    "    'P00104':'peso',\n",
    "    'P00404':'altura',\n",
    "    'P02601':'consumo_sal',\n",
    "    'P027':'freq_alcool',\n",
    "    'P034':'pratica_exerc',\n",
    "    'P04501':'horas_tv',\n",
    "    'P04502':'horas_internet',\n",
    "    'P050':'fuma_tabaco',\n",
    "    'P052':'passado_tabaco',\n",
    "    'P06701':'uso_vape',\n",
    "    'Q00101':'freq_pressao',\n",
    "    'Q00201':'hipertensao',\n",
    "    'Q03001':'diabete',\n",
    "    'Q06306':'infarto',\n",
    "    'T004':'diag_ist',\n",
    "    'Y001':'idade_sex_mor',\n",
    "    'Y00101':'idade_sex',\n",
    "    'Y002':'relac_sex_12mes',\n",
    "    'Y003':'freq_uso_camis',\n",
    "    'H001':'ultima_vez_medico',\n",
    "    'VDR001':'Metodo_contraceptivo'\n",
    "   \n",
    "}, inplace=True)"
   ]
  },
  {
   "cell_type": "code",
   "execution_count": 19,
   "id": "c3594e72-a614-4c8b-83bc-858e37f383f9",
   "metadata": {
    "tags": []
   },
   "outputs": [
    {
     "name": "stdout",
     "output_type": "stream",
     "text": [
      "<class 'pandas.core.frame.DataFrame'>\n",
      "RangeIndex: 2574 entries, 0 to 2573\n",
      "Data columns (total 45 columns):\n",
      " #   Column             Non-Null Count  Dtype  \n",
      "---  ------             --------------  -----  \n",
      " 0   local              2574 non-null   int64  \n",
      " 1   tipo_cidade        2574 non-null   int64  \n",
      " 2   abast_agua         2574 non-null   int64  \n",
      " 3   agua_usada         2574 non-null   int64  \n",
      " 4   esgoto             2559 non-null   float64\n",
      " 5   sexo               2574 non-null   int64  \n",
      " 6   raca               2574 non-null   int64  \n",
      " 7   plano_saude        2574 non-null   int64  \n",
      " 8   ultima_vez_med     2574 non-null   int64  \n",
      " 9   vez_med_ult12mes   2136 non-null   float64\n",
      " 10  freq_exercfis      2574 non-null   int64  \n",
      " 11  av_saude           2574 non-null   int64  \n",
      " 12  av_prop_saude      2574 non-null   int64  \n",
      " 13  prob_sono          2574 non-null   int64  \n",
      " 14  cansado            2574 non-null   int64  \n",
      " 15  prazer             2574 non-null   int64  \n",
      " 16  concentracao       2574 non-null   int64  \n",
      " 17  falta_apetite      2574 non-null   int64  \n",
      " 18  agitado            2574 non-null   int64  \n",
      " 19  deprimido          2574 non-null   int64  \n",
      " 20  sabe_peso          2574 non-null   int64  \n",
      " 21  peso               2554 non-null   float64\n",
      " 22  altura             2554 non-null   float64\n",
      " 23  consumo_sal        2574 non-null   int64  \n",
      " 24  freq_alcool        2574 non-null   int64  \n",
      " 25  pratica_exerc      2574 non-null   int64  \n",
      " 26  horas_tv           2574 non-null   int64  \n",
      " 27  horas_internet     2574 non-null   int64  \n",
      " 28  fuma_tabaco        2574 non-null   int64  \n",
      " 29  passado_tabaco     2258 non-null   float64\n",
      " 30  P053               952 non-null    float64\n",
      " 31  uso_vape           2574 non-null   int64  \n",
      " 32  freq_pressao       2574 non-null   int64  \n",
      " 33  hipertensao        2541 non-null   float64\n",
      " 34  Q074               2574 non-null   int64  \n",
      " 35  Q124               2574 non-null   int64  \n",
      " 36  Q003               906 non-null    float64\n",
      " 37  diabete            2421 non-null   float64\n",
      " 38  infarto            2574 non-null   int64  \n",
      " 39  diag_ist           2574 non-null   int64  \n",
      " 40  idade_sex_mor      2530 non-null   float64\n",
      " 41  idade_sex          2009 non-null   float64\n",
      " 42  relac_sex_12mes    2503 non-null   float64\n",
      " 43  freq_uso_camis     1680 non-null   float64\n",
      " 44  ultima_vez_medico  2530 non-null   float64\n",
      "dtypes: float64(14), int64(31)\n",
      "memory usage: 905.1 KB\n"
     ]
    }
   ],
   "source": [
    "data.info()"
   ]
  },
  {
   "cell_type": "code",
   "execution_count": 20,
   "id": "f7712b0e-0542-49d6-b384-2052e62b6858",
   "metadata": {
    "tags": []
   },
   "outputs": [
    {
     "data": {
      "text/plain": [
       "ultima_vez_medico    float64\n",
       "freq_uso_camis       float64\n",
       "relac_sex_12mes      float64\n",
       "diabete              float64\n",
       "hipertensao          float64\n",
       "passado_tabaco       float64\n",
       "vez_med_ult12mes     float64\n",
       "esgoto               float64\n",
       "dtype: object"
      ]
     },
     "execution_count": 20,
     "metadata": {},
     "output_type": "execute_result"
    }
   ],
   "source": [
    "data[['ultima_vez_medico','freq_uso_camis','relac_sex_12mes','diabete','hipertensao','passado_tabaco',\n",
    "      'vez_med_ult12mes','esgoto']].dtypes"
   ]
  },
  {
   "cell_type": "code",
   "execution_count": 21,
   "id": "7e28b5ce-85d0-4625-ab56-9f2be5eccefc",
   "metadata": {
    "tags": []
   },
   "outputs": [],
   "source": [
    "colunas_converter = ['ultima_vez_medico', 'freq_uso_camis', 'relac_sex_12mes', \n",
    "                          'diabete', 'hipertensao','passado_tabaco','vez_med_ult12mes','esgoto']\n",
    "data[colunas_converter] = data[colunas_converter].astype('category')"
   ]
  },
  {
   "cell_type": "code",
   "execution_count": 22,
   "id": "0cef4d2d-f492-4f17-99b9-c2d921505cec",
   "metadata": {
    "tags": []
   },
   "outputs": [
    {
     "data": {
      "text/plain": [
       "0       4.0\n",
       "1       4.0\n",
       "2       1.0\n",
       "3       3.0\n",
       "4       2.0\n",
       "       ... \n",
       "2569    1.0\n",
       "2570    1.0\n",
       "2571    3.0\n",
       "2572    4.0\n",
       "2573    2.0\n",
       "Name: ultima_vez_medico, Length: 2574, dtype: category\n",
       "Categories (5, float64): [1.0, 2.0, 3.0, 4.0, 5.0]"
      ]
     },
     "execution_count": 22,
     "metadata": {},
     "output_type": "execute_result"
    }
   ],
   "source": [
    "data['ultima_vez_medico']"
   ]
  },
  {
   "cell_type": "code",
   "execution_count": 23,
   "id": "78763ff5-51f5-45c5-a95f-f781b80a001c",
   "metadata": {
    "tags": []
   },
   "outputs": [],
   "source": [
    "data['ultima_vez_medico'] = data['ultima_vez_medico'].astype('string')\n",
    "data['freq_uso_camis'] = data['freq_uso_camis'].astype('string')\n",
    "data['relac_sex_12mes'] = data['relac_sex_12mes'].astype('string')\n",
    "data['diabete'] = data['diabete'].astype('string')\n",
    "data['hipertensao'] = data['hipertensao'].astype('string')\n",
    "data['passado_tabaco'] = data['passado_tabaco'].astype('string')\n",
    "data['vez_med_ult12mes'] = data['vez_med_ult12mes'].astype('string')\n",
    "data['esgoto'] = data['esgoto'].astype('string')\n",
    "\n",
    "data.loc[data['ultima_vez_medico'] == 0, 'ultima_vez_medico'] = '0'\n",
    "data.loc[data['freq_uso_camis'] == 0, 'freq_uso_camis'] = '0'\n",
    "data.loc[data['relac_sex_12mes'] == 0, 'relac_sex_12mes'] = '0'\n",
    "data.loc[data['diabete'] == 0, 'diabete'] = '0'\n",
    "data.loc[data['hipertensao'] == 0, 'hipertensao'] = '0'\n",
    "data.loc[data['passado_tabaco'] == 0, 'passado_tabaco'] = '0'\n",
    "data.loc[data['vez_med_ult12mes'] == 0, 'vez_med_ult12mes'] = '0'\n",
    "data.loc[data['esgoto'] == 0, 'esgoto'] = '0'"
   ]
  },
  {
   "cell_type": "code",
   "execution_count": 24,
   "id": "e1137494-3322-4654-8429-a0779771624b",
   "metadata": {
    "tags": []
   },
   "outputs": [],
   "source": [
    "data['freq_uso_camis'] = data['freq_uso_camis'].astype('category')\n",
    "data['relac_sex_12mes'] = data['relac_sex_12mes'].astype('category')\n",
    "data['diabete'] = data['diabete'].astype('category')\n",
    "data['hipertensao'] = data['hipertensao'].astype('category')\n",
    "data['passado_tabaco'] = data['passado_tabaco'].astype('category')\n",
    "data['vez_med_ult12mes'] = data['vez_med_ult12mes'].astype('category')\n",
    "data['esgoto'] = data['esgoto'].astype('category')\n",
    "data['ultima_vez_medico'] = data['ultima_vez_medico'].astype('category')"
   ]
  },
  {
   "cell_type": "code",
   "execution_count": 25,
   "id": "a06ab82f-9c71-4709-8135-747fff9a17aa",
   "metadata": {
    "tags": []
   },
   "outputs": [
    {
     "data": {
      "text/plain": [
       "44"
      ]
     },
     "execution_count": 25,
     "metadata": {},
     "output_type": "execute_result"
    }
   ],
   "source": [
    "data['ultima_vez_medico'].isna().sum()"
   ]
  },
  {
   "cell_type": "code",
   "execution_count": 26,
   "id": "0d7ae8c1-f8be-44b3-bfc9-341277214225",
   "metadata": {
    "tags": []
   },
   "outputs": [
    {
     "data": {
      "text/html": [
       "<style type=\"text/css\">\n",
       "</style>\n",
       "<table id=\"T_05675\">\n",
       "  <thead>\n",
       "    <tr>\n",
       "      <th class=\"blank level0\" >&nbsp;</th>\n",
       "      <th id=\"T_05675_level0_col0\" class=\"col_heading level0 col0\" >% Valores Nulos</th>\n",
       "    </tr>\n",
       "  </thead>\n",
       "  <tbody>\n",
       "    <tr>\n",
       "      <th id=\"T_05675_level0_row0\" class=\"row_heading level0 row0\" >Q003</th>\n",
       "      <td id=\"T_05675_row0_col0\" class=\"data row0 col0\" >64.80%</td>\n",
       "    </tr>\n",
       "    <tr>\n",
       "      <th id=\"T_05675_level0_row1\" class=\"row_heading level0 row1\" >P053</th>\n",
       "      <td id=\"T_05675_row1_col0\" class=\"data row1 col0\" >63.01%</td>\n",
       "    </tr>\n",
       "    <tr>\n",
       "      <th id=\"T_05675_level0_row2\" class=\"row_heading level0 row2\" >freq_uso_camis</th>\n",
       "      <td id=\"T_05675_row2_col0\" class=\"data row2 col0\" >34.73%</td>\n",
       "    </tr>\n",
       "    <tr>\n",
       "      <th id=\"T_05675_level0_row3\" class=\"row_heading level0 row3\" >idade_sex</th>\n",
       "      <td id=\"T_05675_row3_col0\" class=\"data row3 col0\" >21.95%</td>\n",
       "    </tr>\n",
       "    <tr>\n",
       "      <th id=\"T_05675_level0_row4\" class=\"row_heading level0 row4\" >vez_med_ult12mes</th>\n",
       "      <td id=\"T_05675_row4_col0\" class=\"data row4 col0\" >17.02%</td>\n",
       "    </tr>\n",
       "    <tr>\n",
       "      <th id=\"T_05675_level0_row5\" class=\"row_heading level0 row5\" >passado_tabaco</th>\n",
       "      <td id=\"T_05675_row5_col0\" class=\"data row5 col0\" >12.28%</td>\n",
       "    </tr>\n",
       "    <tr>\n",
       "      <th id=\"T_05675_level0_row6\" class=\"row_heading level0 row6\" >diabete</th>\n",
       "      <td id=\"T_05675_row6_col0\" class=\"data row6 col0\" >5.94%</td>\n",
       "    </tr>\n",
       "    <tr>\n",
       "      <th id=\"T_05675_level0_row7\" class=\"row_heading level0 row7\" >relac_sex_12mes</th>\n",
       "      <td id=\"T_05675_row7_col0\" class=\"data row7 col0\" >2.76%</td>\n",
       "    </tr>\n",
       "    <tr>\n",
       "      <th id=\"T_05675_level0_row8\" class=\"row_heading level0 row8\" >idade_sex_mor</th>\n",
       "      <td id=\"T_05675_row8_col0\" class=\"data row8 col0\" >1.71%</td>\n",
       "    </tr>\n",
       "    <tr>\n",
       "      <th id=\"T_05675_level0_row9\" class=\"row_heading level0 row9\" >ultima_vez_medico</th>\n",
       "      <td id=\"T_05675_row9_col0\" class=\"data row9 col0\" >1.71%</td>\n",
       "    </tr>\n",
       "    <tr>\n",
       "      <th id=\"T_05675_level0_row10\" class=\"row_heading level0 row10\" >hipertensao</th>\n",
       "      <td id=\"T_05675_row10_col0\" class=\"data row10 col0\" >1.28%</td>\n",
       "    </tr>\n",
       "    <tr>\n",
       "      <th id=\"T_05675_level0_row11\" class=\"row_heading level0 row11\" >peso</th>\n",
       "      <td id=\"T_05675_row11_col0\" class=\"data row11 col0\" >0.78%</td>\n",
       "    </tr>\n",
       "    <tr>\n",
       "      <th id=\"T_05675_level0_row12\" class=\"row_heading level0 row12\" >altura</th>\n",
       "      <td id=\"T_05675_row12_col0\" class=\"data row12 col0\" >0.78%</td>\n",
       "    </tr>\n",
       "    <tr>\n",
       "      <th id=\"T_05675_level0_row13\" class=\"row_heading level0 row13\" >esgoto</th>\n",
       "      <td id=\"T_05675_row13_col0\" class=\"data row13 col0\" >0.58%</td>\n",
       "    </tr>\n",
       "  </tbody>\n",
       "</table>\n"
      ],
      "text/plain": [
       "<pandas.io.formats.style.Styler at 0x14e689e9310>"
      ]
     },
     "execution_count": 26,
     "metadata": {},
     "output_type": "execute_result"
    }
   ],
   "source": [
    "porcentagem_nulos = (data.isna().sum() / data.shape[0])\n",
    "\n",
    "porcentagem_nulos_filtrada = porcentagem_nulos[porcentagem_nulos > 0]\n",
    "\n",
    "data_nulos=(\n",
    "porcentagem_nulos_filtrada.to_frame(\"% Valores Nulos\")\n",
    ".sort_values(\"% Valores Nulos\", ascending=False)\n",
    ")\n",
    "\n",
    "\n",
    "data_nulos.style.format('{:1.2%}', subset=['% Valores Nulos'])"
   ]
  },
  {
   "cell_type": "code",
   "execution_count": 34,
   "id": "8c9bc285-332f-40a4-b2a8-5cd1896c33f0",
   "metadata": {
    "tags": []
   },
   "outputs": [],
   "source": [
    "from sklearn.impute import SimpleImputer\n",
    "import pandas as pd\n",
    "\n",
    "data.dropna(subset=['hipertensao', 'altura','peso','ultima_vez_medico','idade_sex_mor',\n",
    "                 'esgoto','relac_sex_12mes','vez_med_ult12mes'], inplace=True)"
   ]
  },
  {
   "cell_type": "code",
   "execution_count": 35,
   "id": "46d1c01d-d20f-49e6-aa18-3d028cf0bf9f",
   "metadata": {
    "tags": []
   },
   "outputs": [],
   "source": [
    "cols_categoricas = ['diabete', 'passado_tabaco', 'freq_uso_camis']\n",
    "\n",
    "cols_numericas = ['idade_sex']\n",
    "\n",
    "for col in cols_categoricas:\n",
    "    moda = data[col].mode()[0]\n",
    "    data[col].fillna(moda, inplace=True)\n",
    "\n",
    "imputer = SimpleImputer(strategy='most_frequent')\n",
    "data[cols_numericas] = imputer.fit_transform(data[cols_numericas])"
   ]
  },
  {
   "cell_type": "code",
   "execution_count": 36,
   "id": "012fd79f-af2d-4e92-8525-c734883ad361",
   "metadata": {
    "tags": []
   },
   "outputs": [],
   "source": [
    "data.rename(columns={'Q074':'asma'}, inplace=True)"
   ]
  },
  {
   "cell_type": "code",
   "execution_count": 37,
   "id": "c677cb98-8ef9-449d-a0d1-f4d7ad3c21d0",
   "metadata": {
    "tags": []
   },
   "outputs": [],
   "source": [
    "#data.drop(columns=['Q003','P053'], inplace=True)"
   ]
  },
  {
   "cell_type": "code",
   "execution_count": 38,
   "id": "4caffe2b-d80d-45fa-828b-b28b1d733995",
   "metadata": {
    "tags": []
   },
   "outputs": [
    {
     "data": {
      "text/html": [
       "<style type=\"text/css\">\n",
       "</style>\n",
       "<table id=\"T_e0e10\">\n",
       "  <thead>\n",
       "    <tr>\n",
       "      <th class=\"blank level0\" >&nbsp;</th>\n",
       "      <th id=\"T_e0e10_level0_col0\" class=\"col_heading level0 col0\" >% Valores Nulos</th>\n",
       "    </tr>\n",
       "  </thead>\n",
       "  <tbody>\n",
       "  </tbody>\n",
       "</table>\n"
      ],
      "text/plain": [
       "<pandas.io.formats.style.Styler at 0x14e6f05d890>"
      ]
     },
     "execution_count": 38,
     "metadata": {},
     "output_type": "execute_result"
    }
   ],
   "source": [
    "porcentagem_nulos = (data.isna().sum() / data.shape[0])\n",
    "\n",
    "porcentagem_nulos_filtrada = porcentagem_nulos[porcentagem_nulos > 0]\n",
    "\n",
    "data_nulos=(\n",
    "porcentagem_nulos_filtrada.to_frame(\"% Valores Nulos\")\n",
    ".sort_values(\"% Valores Nulos\", ascending=False)\n",
    ")\n",
    "\n",
    "\n",
    "data_nulos.style.format('{:1.2%}', subset=['% Valores Nulos'])"
   ]
  },
  {
   "cell_type": "code",
   "execution_count": 72,
   "id": "0c2b1243-d797-4b2b-9f37-5e2bd993b8ef",
   "metadata": {
    "tags": []
   },
   "outputs": [],
   "source": [
    "data.rename(columns={'altura':'IMC'}, inplace=True)"
   ]
  },
  {
   "cell_type": "markdown",
   "id": "f5a53b2e-efea-45c2-ac73-d37fbb4b3991",
   "metadata": {},
   "source": [
    "## CÁLCULOS DE ENTROPIA"
   ]
  },
  {
   "cell_type": "markdown",
   "id": "0fa892d5-5180-419d-b433-c1717672a9cd",
   "metadata": {},
   "source": [
    "### ENTROPIA EM RELAÇÃO A CLASSE"
   ]
  },
  {
   "cell_type": "code",
   "execution_count": 73,
   "id": "15aeecee-6e90-4cc8-9b5f-1d0ac83d88f3",
   "metadata": {
    "tags": []
   },
   "outputs": [
    {
     "name": "stdout",
     "output_type": "stream",
     "text": [
      "\n",
      "Entropia de cada atributo em relação à classe:\n",
      "sexo: 98.32%\n",
      "horas_tv: 95.86%\n",
      "ultima_vez_medico: 94.94%\n",
      "pratica_exerc: 94.36%\n",
      "hipertensao: 92.04%\n",
      "horas_internet: 90.89%\n",
      "peso: 90.74%\n",
      "IMC: 88.63%\n",
      "prob_sono: 84.71%\n",
      "cansado: 83.56%\n",
      "plano_saude: 80.02%\n",
      "tipo_cidade: 79.56%\n",
      "av_saude: 79.40%\n",
      "av_prop_saude: 75.08%\n",
      "prazer: 73.93%\n",
      "deprimido: 73.92%\n",
      "consumo_sal: 72.82%\n",
      "freq_alcool: 72.30%\n",
      "freq_exercfis: 71.57%\n",
      "idade_sex: 70.43%\n",
      "relac_sex_12mes: 70.10%\n",
      "agua_usada: 69.50%\n",
      "esgoto: 68.38%\n",
      "passado_tabaco: 68.07%\n",
      "vez_med_ult12mes: 68.03%\n",
      "raca: 63.78%\n",
      "concentracao: 62.73%\n",
      "falta_apetite: 62.15%\n",
      "local: 62.10%\n",
      "diabete: 61.52%\n",
      "agitado: 59.81%\n",
      "abast_agua: 56.05%\n",
      "freq_uso_camis: 55.48%\n",
      "idade_sex_mor: 55.25%\n",
      "infarto: 53.61%\n",
      "fuma_tabaco: 34.89%\n",
      "asma: 34.37%\n",
      "freq_pressao: 33.94%\n",
      "sabe_peso: 27.77%\n",
      "diag_ist: 6.08%\n",
      "uso_vape: 5.46%\n",
      "ultima_vez_med: -inf%\n"
     ]
    },
    {
     "name": "stderr",
     "output_type": "stream",
     "text": [
      "C:\\Users\\Y044771\\AppData\\Local\\Temp\\ipykernel_26024\\401718953.py:16: RuntimeWarning: divide by zero encountered in scalar divide\n",
      "  return entropia / np.log2(len(values))\n",
      "C:\\Users\\Y044771\\AppData\\Local\\Temp\\ipykernel_26024\\401718953.py:16: RuntimeWarning: divide by zero encountered in scalar divide\n",
      "  return entropia / np.log2(len(values))\n"
     ]
    }
   ],
   "source": [
    "classe = 'Q124'  \n",
    "entropia_baseado_na_classe = {}\n",
    "\n",
    "for column in data.columns:\n",
    "    if column != classe:\n",
    "        unique_classes = data[classe].unique()\n",
    "        total_entropia = 0\n",
    "        for value in unique_classes:\n",
    "            subset = data[data[classe] == value][column]\n",
    "            total_entropia += len(subset) / len(data) * calcula_entropia(subset)\n",
    "        entropia_baseado_na_classe[column] = total_entropia\n",
    "\n",
    "print(\"\\nEntropia de cada atributo em relação à classe:\")\n",
    "sorted_entropias = sorted(entropia_baseado_na_classe.items(), key=lambda x: x[1], reverse=True)\n",
    "for column, entropia in sorted_entropias:\n",
    "    print(f\"{column}: {entropia * 100:.2f}%\")"
   ]
  },
  {
   "cell_type": "markdown",
   "id": "6470869c-625a-4ed3-bc41-ec4e5ae897a2",
   "metadata": {},
   "source": [
    "### ENTROPIA POR ATRIBUTO"
   ]
  },
  {
   "cell_type": "code",
   "execution_count": 74,
   "id": "0e14dd5e-21aa-4b1a-a06f-a863216cf393",
   "metadata": {},
   "outputs": [
    {
     "name": "stdout",
     "output_type": "stream",
     "text": [
      "Entropia de cada atributo:\n",
      "sexo: 0.9832\n",
      "horas_tv: 0.9586\n",
      "ultima_vez_medico: 0.9494\n",
      "pratica_exerc: 0.9436\n",
      "hipertensao: 0.9204\n",
      "horas_internet: 0.9089\n",
      "peso: 0.9074\n",
      "IMC: 0.8863\n",
      "prob_sono: 0.8471\n",
      "cansado: 0.8356\n",
      "plano_saude: 0.8002\n",
      "tipo_cidade: 0.7956\n",
      "av_saude: 0.7940\n",
      "av_prop_saude: 0.7508\n",
      "prazer: 0.7393\n",
      "deprimido: 0.7392\n",
      "consumo_sal: 0.7282\n",
      "freq_alcool: 0.7230\n",
      "freq_exercfis: 0.7157\n",
      "idade_sex: 0.7043\n",
      "relac_sex_12mes: 0.7010\n",
      "agua_usada: 0.6950\n",
      "esgoto: 0.6838\n",
      "passado_tabaco: 0.6807\n",
      "vez_med_ult12mes: 0.6803\n",
      "raca: 0.6378\n",
      "concentracao: 0.6273\n",
      "falta_apetite: 0.6215\n",
      "local: 0.6210\n",
      "diabete: 0.6152\n",
      "agitado: 0.5981\n",
      "abast_agua: 0.5605\n",
      "freq_uso_camis: 0.5548\n",
      "idade_sex_mor: 0.5525\n",
      "infarto: 0.5361\n",
      "fuma_tabaco: 0.3489\n",
      "asma: 0.3437\n",
      "freq_pressao: 0.3394\n",
      "sabe_peso: 0.2777\n",
      "diag_ist: 0.0608\n",
      "uso_vape: 0.0546\n",
      "ultima_vez_med: -inf\n"
     ]
    },
    {
     "name": "stderr",
     "output_type": "stream",
     "text": [
      "C:\\Users\\Y044771\\AppData\\Local\\Temp\\ipykernel_26024\\401718953.py:16: RuntimeWarning: divide by zero encountered in scalar divide\n",
      "  return entropia / np.log2(len(values))\n"
     ]
    }
   ],
   "source": [
    "import numpy as np\n",
    "\n",
    "def calcula_entropia(column):\n",
    "    \n",
    "    column = column.astype('object')\n",
    "    \n",
    "    column_without_nan = column[~column.isna()]\n",
    "    \n",
    "    values, counts = np.unique(column_without_nan, return_counts=True)\n",
    "    \n",
    "    probabilities = counts / len(column_without_nan)\n",
    "    \n",
    "    entropia = -np.sum(probabilities * np.log2(probabilities + 1e-10))\n",
    "    \n",
    "    if len(values) > 0:\n",
    "        return entropia / np.log2(len(values))\n",
    "    else:\n",
    "        return 0\n",
    "\n",
    "entropias = {}\n",
    "for column in data.columns:\n",
    "    entropias[column] = calcula_entropia(data[column])\n",
    "\n",
    "print(\"Entropia de cada atributo:\")\n",
    "sorted_entropias = sorted(entropia_baseado_na_classe.items(), key=lambda x: x[1], reverse=True)\n",
    "for column, entropia in sorted_entropias:\n",
    "     print(f\"{column}: {entropia:.4f}\")"
   ]
  },
  {
   "cell_type": "code",
   "execution_count": 75,
   "id": "33496fef-43ab-4ab2-ac8c-34e6c2e25270",
   "metadata": {
    "tags": []
   },
   "outputs": [
    {
     "name": "stdout",
     "output_type": "stream",
     "text": [
      "\n",
      "Entropia de cada atributo em relação à classe:\n",
      "sexo: 0.9832\n",
      "horas_tv: 0.9586\n",
      "ultima_vez_medico: 0.9494\n",
      "pratica_exerc: 0.9436\n",
      "hipertensao: 0.9204\n",
      "horas_internet: 0.9089\n",
      "peso: 0.9074\n",
      "IMC: 0.8863\n",
      "prob_sono: 0.8471\n",
      "cansado: 0.8356\n",
      "plano_saude: 0.8002\n",
      "tipo_cidade: 0.7956\n",
      "av_saude: 0.7940\n",
      "av_prop_saude: 0.7508\n",
      "prazer: 0.7393\n",
      "deprimido: 0.7392\n",
      "consumo_sal: 0.7282\n",
      "freq_alcool: 0.7230\n",
      "freq_exercfis: 0.7157\n",
      "idade_sex: 0.7043\n",
      "relac_sex_12mes: 0.7010\n",
      "agua_usada: 0.6950\n",
      "esgoto: 0.6838\n",
      "passado_tabaco: 0.6807\n",
      "vez_med_ult12mes: 0.6803\n",
      "raca: 0.6378\n",
      "concentracao: 0.6273\n",
      "falta_apetite: 0.6215\n",
      "local: 0.6210\n",
      "diabete: 0.6152\n",
      "agitado: 0.5981\n",
      "abast_agua: 0.5605\n",
      "freq_uso_camis: 0.5548\n",
      "idade_sex_mor: 0.5525\n",
      "infarto: 0.5361\n",
      "fuma_tabaco: 0.3489\n",
      "asma: 0.3437\n",
      "freq_pressao: 0.3394\n",
      "sabe_peso: 0.2777\n",
      "diag_ist: 0.0608\n",
      "uso_vape: 0.0546\n",
      "ultima_vez_med: -inf\n"
     ]
    },
    {
     "name": "stderr",
     "output_type": "stream",
     "text": [
      "C:\\Users\\Y044771\\AppData\\Local\\Temp\\ipykernel_26024\\401718953.py:16: RuntimeWarning: divide by zero encountered in scalar divide\n",
      "  return entropia / np.log2(len(values))\n",
      "C:\\Users\\Y044771\\AppData\\Local\\Temp\\ipykernel_26024\\401718953.py:16: RuntimeWarning: divide by zero encountered in scalar divide\n",
      "  return entropia / np.log2(len(values))\n"
     ]
    }
   ],
   "source": [
    "classe = 'Q124'  \n",
    "entropia_baseado_na_classe = {}\n",
    "\n",
    "for column in data.columns:\n",
    "    if column != classe:\n",
    "        unique_classes = data[classe].unique()\n",
    "        total_entropia = 0\n",
    "        for value in unique_classes:\n",
    "            subset = data[data[classe] == value][column]\n",
    "            total_entropia += len(subset) / len(data) * calcula_entropia(subset)\n",
    "        entropia_baseado_na_classe[column] = total_entropia\n",
    "\n",
    "print(\"\\nEntropia de cada atributo em relação à classe:\")\n",
    "sorted_entropias = sorted(entropia_baseado_na_classe.items(), key=lambda x: x[1], reverse=True)\n",
    "for column, entropia in sorted_entropias:\n",
    "     print(f\"{column}: {entropia:.4f}\")"
   ]
  },
  {
   "cell_type": "markdown",
   "id": "d121227d-6976-4c5c-adb8-6bdf6b77b0be",
   "metadata": {},
   "source": [
    "## INFORMAÇÕES DA BASE"
   ]
  },
  {
   "cell_type": "code",
   "execution_count": 76,
   "id": "d1577079-79be-4807-86a9-41f9373526d0",
   "metadata": {
    "tags": []
   },
   "outputs": [
    {
     "name": "stdout",
     "output_type": "stream",
     "text": [
      "<class 'pandas.core.frame.DataFrame'>\n",
      "Index: 2060 entries, 0 to 2573\n",
      "Data columns (total 43 columns):\n",
      " #   Column             Non-Null Count  Dtype   \n",
      "---  ------             --------------  -----   \n",
      " 0   local              2060 non-null   int64   \n",
      " 1   tipo_cidade        2060 non-null   int64   \n",
      " 2   abast_agua         2060 non-null   int64   \n",
      " 3   agua_usada         2060 non-null   int64   \n",
      " 4   esgoto             2060 non-null   category\n",
      " 5   sexo               2060 non-null   int64   \n",
      " 6   raca               2060 non-null   int64   \n",
      " 7   plano_saude        2060 non-null   int64   \n",
      " 8   ultima_vez_med     2060 non-null   int64   \n",
      " 9   vez_med_ult12mes   2060 non-null   category\n",
      " 10  freq_exercfis      2060 non-null   int64   \n",
      " 11  av_saude           2060 non-null   int64   \n",
      " 12  av_prop_saude      2060 non-null   int64   \n",
      " 13  prob_sono          2060 non-null   int64   \n",
      " 14  cansado            2060 non-null   int64   \n",
      " 15  prazer             2060 non-null   int64   \n",
      " 16  concentracao       2060 non-null   int64   \n",
      " 17  falta_apetite      2060 non-null   int64   \n",
      " 18  agitado            2060 non-null   int64   \n",
      " 19  deprimido          2060 non-null   int64   \n",
      " 20  sabe_peso          2060 non-null   int64   \n",
      " 21  peso               2060 non-null   float64 \n",
      " 22  IMC                2060 non-null   float64 \n",
      " 23  consumo_sal        2060 non-null   int64   \n",
      " 24  freq_alcool        2060 non-null   int64   \n",
      " 25  pratica_exerc      2060 non-null   int64   \n",
      " 26  horas_tv           2060 non-null   int64   \n",
      " 27  horas_internet     2060 non-null   int64   \n",
      " 28  fuma_tabaco        2060 non-null   int64   \n",
      " 29  passado_tabaco     2060 non-null   category\n",
      " 30  uso_vape           2060 non-null   int64   \n",
      " 31  freq_pressao       2060 non-null   int64   \n",
      " 32  hipertensao        2060 non-null   category\n",
      " 33  asma               2060 non-null   int64   \n",
      " 34  Q124               2060 non-null   int64   \n",
      " 35  diabete            2060 non-null   category\n",
      " 36  infarto            2060 non-null   int64   \n",
      " 37  diag_ist           2060 non-null   int64   \n",
      " 38  idade_sex_mor      2060 non-null   float64 \n",
      " 39  idade_sex          2060 non-null   float64 \n",
      " 40  relac_sex_12mes    2060 non-null   category\n",
      " 41  freq_uso_camis     2060 non-null   category\n",
      " 42  ultima_vez_medico  2060 non-null   category\n",
      "dtypes: category(8), float64(4), int64(31)\n",
      "memory usage: 598.1 KB\n"
     ]
    }
   ],
   "source": [
    "data.info()"
   ]
  },
  {
   "cell_type": "markdown",
   "id": "9a64d8fd-d7ab-4e77-8757-e439cee0227c",
   "metadata": {
    "tags": []
   },
   "source": [
    "## GRÁFICOS "
   ]
  },
  {
   "cell_type": "code",
   "execution_count": 77,
   "id": "5579ae1a-612a-4fab-a577-85256b9d7b86",
   "metadata": {
    "tags": []
   },
   "outputs": [
    {
     "data": {
      "image/png": "[encoded data removed]",
      "text/plain": [
       "<Figure size 1000x600 with 1 Axes>"
      ]
     },
     "metadata": {},
     "output_type": "display_data"
    }
   ],
   "source": [
    "atributo_X = 'fuma_tabaco'  # ENTROPIA 0.521\n",
    "\n",
    "distribuicao = data.groupby(['fuma_tabaco', 'Q124']).size().unstack()\n",
    "\n",
    "total_por_valor = distribuicao.sum(axis=1)\n",
    "\n",
    "porcentagem_sim = (distribuicao[1] / total_por_valor) * 100\n",
    "porcentagem_nao = (distribuicao[2] / total_por_valor) * 100\n",
    "\n",
    "plt.figure(figsize=(10, 6))\n",
    "plt.bar(porcentagem_sim.index, porcentagem_sim, color='b', alpha=0.5, label=1)\n",
    "plt.bar(porcentagem_nao.index, porcentagem_nao, color='r', alpha=0.5, bottom=porcentagem_sim, label=2)\n",
    "plt.xlabel('fuma_tabaco')\n",
    "plt.ylabel('Porcentagem (%)')\n",
    "plt.title('Distribuição de \"sim\"[1] e \"não\"[2] em relação ao atributo \"{}\"'.format('fuma_tabaco'))\n",
    "plt.legend()\n",
    "\n",
    "plt.xlabel('Valores de {}'.format('fuma_tabaco'))\n",
    "plt.ylabel('Porcentagem de Classes')\n",
    "\n",
    "plt.show()"
   ]
  },
  {
   "cell_type": "markdown",
   "id": "1a9f5603-cae0-4b10-b83d-aa511925c10f",
   "metadata": {},
   "source": [
    "# DECISÃO: MANTER "
   ]
  },
  {
   "cell_type": "code",
   "execution_count": 78,
   "id": "56505ac9-280c-4bc3-b46c-15c5f5ad7ca0",
   "metadata": {
    "tags": []
   },
   "outputs": [
    {
     "data": {
      "image/png": "[encoded data removed]",
      "text/plain": [
       "<Figure size 1000x600 with 1 Axes>"
      ]
     },
     "metadata": {},
     "output_type": "display_data"
    }
   ],
   "source": [
    "atributo_X = 'freq_alcool'  # ENTROPIA 0.654\n",
    "\n",
    "distribuicao = data.groupby(['freq_alcool', 'Q124']).size().unstack()\n",
    "\n",
    "total_por_valor = distribuicao.sum(axis=1)\n",
    "\n",
    "porcentagem_sim = (distribuicao[1] / total_por_valor) * 100\n",
    "porcentagem_nao = (distribuicao[2] / total_por_valor) * 100\n",
    "\n",
    "plt.figure(figsize=(10, 6))\n",
    "plt.bar(porcentagem_sim.index, porcentagem_sim, color='b', alpha=0.5, label=1)\n",
    "plt.bar(porcentagem_nao.index, porcentagem_nao, color='r', alpha=0.5, bottom=porcentagem_sim, label=2)\n",
    "plt.xlabel('freq_alcool')\n",
    "plt.ylabel('Porcentagem (%)')\n",
    "plt.title('Distribuição de \"sim\"[1] e \"não\"[2] em relação ao atributo \"{}\"'.format('freq_alcool'))\n",
    "plt.legend()\n",
    "\n",
    "plt.xlabel('Valores de {}'.format('freq_alcool'))\n",
    "plt.ylabel('Porcentagem de Classes')\n",
    "\n",
    "plt.show()"
   ]
  },
  {
   "cell_type": "markdown",
   "id": "8ccb8fb8-4d33-490d-a6fa-75fcaa058db1",
   "metadata": {},
   "source": [
    "# DECISÃO: AGRUPAR 2 E 3"
   ]
  },
  {
   "cell_type": "code",
   "execution_count": 79,
   "id": "0fa3275a-51d7-440b-bb8a-a8d51c24e121",
   "metadata": {
    "tags": []
   },
   "outputs": [
    {
     "data": {
      "image/png": "[encoded data removed]",
      "text/plain": [
       "<Figure size 1000x600 with 1 Axes>"
      ]
     },
     "metadata": {},
     "output_type": "display_data"
    }
   ],
   "source": [
    "atributo_X = 'freq_exercfis'  # ENTROPIA 0.563\n",
    "\n",
    "distribuicao = data.groupby(['freq_exercfis', 'Q124']).size().unstack()\n",
    "\n",
    "total_por_valor = distribuicao.sum(axis=1)\n",
    "\n",
    "porcentagem_sim = (distribuicao[1] / total_por_valor) * 100\n",
    "porcentagem_nao = (distribuicao[2] / total_por_valor) * 100\n",
    "\n",
    "plt.figure(figsize=(10, 6))\n",
    "plt.bar(porcentagem_sim.index, porcentagem_sim, color='b', alpha=0.5, label=1)\n",
    "plt.bar(porcentagem_nao.index, porcentagem_nao, color='r', alpha=0.5, bottom=porcentagem_sim, label=2)\n",
    "plt.xlabel('freq_exercfis')\n",
    "plt.ylabel('Porcentagem (%)')\n",
    "plt.title('Distribuição de \"sim\"[1] e \"não\"[2] em relação ao atributo \"{}\"'.format('freq_exercfis'))\n",
    "plt.legend()\n",
    "\n",
    "plt.xlabel('Valores de {}'.format('freq_exercfis'))\n",
    "plt.ylabel('Porcentagem de Classes')\n",
    "\n",
    "plt.show()"
   ]
  },
  {
   "cell_type": "markdown",
   "id": "ffbfb292-abc4-4ae8-b62b-9c97d33d3ae2",
   "metadata": {},
   "source": [
    "# DECISÃO: JUNTAR 1,2 3,4 E 5,6"
   ]
  },
  {
   "cell_type": "code",
   "execution_count": 80,
   "id": "d12f2774-bffe-47f4-86e1-fee89a840e62",
   "metadata": {
    "tags": []
   },
   "outputs": [
    {
     "data": {
      "image/png": "[encoded data removed]",
      "text/plain": [
       "<Figure size 1000x600 with 1 Axes>"
      ]
     },
     "metadata": {},
     "output_type": "display_data"
    }
   ],
   "source": [
    "atributo_X = 'consumo_sal'  ##ENTROPIA 0.655\n",
    "\n",
    "distribuicao = data.groupby(['consumo_sal', 'Q124']).size().unstack()\n",
    "\n",
    "total_por_valor = distribuicao.sum(axis=1)\n",
    "\n",
    "porcentagem_sim = (distribuicao[1] / total_por_valor) * 100\n",
    "porcentagem_nao = (distribuicao[2] / total_por_valor) * 100\n",
    "\n",
    "plt.figure(figsize=(10, 6))\n",
    "plt.bar(porcentagem_sim.index, porcentagem_sim, color='b', alpha=0.5, label=1)\n",
    "plt.bar(porcentagem_nao.index, porcentagem_nao, color='r', alpha=0.5, bottom=porcentagem_sim, label=2)\n",
    "plt.xlabel('consumo_sal')\n",
    "plt.ylabel('Porcentagem (%)')\n",
    "plt.title('Distribuição de \"sim\"[1] e \"não\"[2] em relação ao atributo \"{}\"'.format('consumo_sal'))\n",
    "plt.legend()\n",
    "\n",
    "plt.xlabel('Valores de {}'.format('consumo_sal'))\n",
    "plt.ylabel('Porcentagem de Classes')\n",
    "\n",
    "plt.show()"
   ]
  },
  {
   "cell_type": "markdown",
   "id": "1175aa7e-a2c7-4e29-9f35-4bc7b84091e1",
   "metadata": {},
   "source": [
    "# DECISÃO: JUNTAR 2,3,4 E MANTER 1 E 5"
   ]
  },
  {
   "cell_type": "code",
   "execution_count": 81,
   "id": "6e6acfbe-9596-4bde-9009-d4bb167aa974",
   "metadata": {
    "tags": []
   },
   "outputs": [
    {
     "data": {
      "image/png": "[encoded data removed]",
      "text/plain": [
       "<Figure size 1000x600 with 1 Axes>"
      ]
     },
     "metadata": {},
     "output_type": "display_data"
    }
   ],
   "source": [
    "atributo_X = 'freq_uso_camis'  # ENTROPIA 0.591\n",
    "\n",
    "distribuicao = data.groupby(['freq_uso_camis', 'Q124']).size().unstack()\n",
    "\n",
    "total_por_valor = distribuicao.sum(axis=1)\n",
    "\n",
    "porcentagem_sim = (distribuicao[1] / total_por_valor) * 100\n",
    "porcentagem_nao = (distribuicao[2] / total_por_valor) * 100\n",
    "\n",
    "plt.figure(figsize=(10, 6))\n",
    "plt.bar(porcentagem_sim.index, porcentagem_sim, color='b', alpha=0.5, label=1)\n",
    "plt.bar(porcentagem_nao.index, porcentagem_nao, color='r', alpha=0.5, bottom=porcentagem_sim, label=2)\n",
    "plt.xlabel('freq_uso_camis')\n",
    "plt.ylabel('Porcentagem (%)')\n",
    "plt.title('Distribuição de \"sim\"[1] e \"não\"[2] em relação ao atributo \"{}\"'.format('freq_uso_camis'))\n",
    "plt.legend()\n",
    "\n",
    "plt.xlabel('Valores de {}'.format('freq_uso_camis'))\n",
    "plt.ylabel('Porcentagem de Classes')\n",
    "\n",
    "plt.show()"
   ]
  },
  {
   "cell_type": "markdown",
   "id": "95919918-86db-4ea4-b4c0-58f6248c16eb",
   "metadata": {},
   "source": [
    "# DECISÃO: MANTER"
   ]
  },
  {
   "cell_type": "code",
   "execution_count": 82,
   "id": "72635821-d73e-4c70-9e6d-14b48c5a5d7f",
   "metadata": {
    "tags": []
   },
   "outputs": [
    {
     "data": {
      "image/png": "[encoded data removed]",
      "text/plain": [
       "<Figure size 1000x600 with 1 Axes>"
      ]
     },
     "metadata": {},
     "output_type": "display_data"
    }
   ],
   "source": [
    "atributo_X = 'freq_pressao'  # ENTROPIA 0.691\n",
    "\n",
    "distribuicao = data.groupby(['freq_pressao', 'Q124']).size().unstack()\n",
    "\n",
    "total_por_valor = distribuicao.sum(axis=1)\n",
    "\n",
    "porcentagem_sim = (distribuicao[1] / total_por_valor) * 100\n",
    "porcentagem_nao = (distribuicao[2] / total_por_valor) * 100\n",
    "\n",
    "plt.figure(figsize=(10, 6))\n",
    "plt.bar(porcentagem_sim.index, porcentagem_sim, color='b', alpha=0.5, label=1)\n",
    "plt.bar(porcentagem_nao.index, porcentagem_nao, color='r', alpha=0.5, bottom=porcentagem_sim, label=2)\n",
    "plt.xlabel('freq_pressao')\n",
    "plt.ylabel('Porcentagem (%)')\n",
    "plt.title('Distribuição de \"sim\"[1] e \"não\"[2] em relação ao atributo \"{}\"'.format('freq_pressao'))\n",
    "plt.legend()\n",
    "\n",
    "plt.xlabel('Valores de {}'.format('freq_pressao'))\n",
    "plt.ylabel('Porcentagem de Classes')\n",
    "\n",
    "plt.show()"
   ]
  },
  {
   "cell_type": "markdown",
   "id": "e6d4ec72-88c0-4d8b-8e44-fd2e80b399dc",
   "metadata": {},
   "source": [
    "# DECISÃO: MANTER 1,2,3 E JUNTAR 4,5"
   ]
  },
  {
   "cell_type": "code",
   "execution_count": 83,
   "id": "3f3d238e-f413-4cfd-8275-481a9558c58d",
   "metadata": {
    "tags": []
   },
   "outputs": [
    {
     "data": {
      "image/png": "[encoded data removed]",
      "text/plain": [
       "<Figure size 1000x600 with 1 Axes>"
      ]
     },
     "metadata": {},
     "output_type": "display_data"
    }
   ],
   "source": [
    "atributo_X = 'ultima_vez_medico'  # ENTROPIA 0.561\n",
    "\n",
    "distribuicao = data.groupby(['ultima_vez_medico', 'Q124']).size().unstack()\n",
    "\n",
    "total_por_valor = distribuicao.sum(axis=1)\n",
    "\n",
    "porcentagem_sim = (distribuicao[1] / total_por_valor) * 100\n",
    "porcentagem_nao = (distribuicao[2] / total_por_valor) * 100\n",
    "\n",
    "plt.figure(figsize=(10, 6))\n",
    "plt.bar(porcentagem_sim.index, porcentagem_sim, color='b', alpha=0.5, label=1)\n",
    "plt.bar(porcentagem_nao.index, porcentagem_nao, color='r', alpha=0.5, bottom=porcentagem_sim, label=2)\n",
    "plt.xlabel('ultima_vez_medico')\n",
    "plt.ylabel('Porcentagem (%)')\n",
    "plt.title('Distribuição de \"sim\"[1] e \"não\"[2] em relação ao atributo \"{}\"'.format('ultima_vez_medico'))\n",
    "plt.legend()\n",
    "\n",
    "plt.xlabel('Valores de {}'.format('ultima_vez_medico'))\n",
    "plt.ylabel('Porcentagem de Classes')\n",
    "\n",
    "plt.show()"
   ]
  },
  {
   "cell_type": "markdown",
   "id": "916ed69d-08de-4e26-a8ce-7e43ad600a8d",
   "metadata": {},
   "source": [
    "# DECISÃO: MANTER"
   ]
  },
  {
   "cell_type": "code",
   "execution_count": 84,
   "id": "8ecdcb7f-7643-4210-8639-2b70f5fb3052",
   "metadata": {
    "tags": []
   },
   "outputs": [
    {
     "data": {
      "image/png": "[encoded data removed]",
      "text/plain": [
       "<Figure size 1000x600 with 1 Axes>"
      ]
     },
     "metadata": {},
     "output_type": "display_data"
    }
   ],
   "source": [
    "atributo_X = 'av_saude'  # ENTROPIA 0.492\n",
    "\n",
    "distribuicao = data.groupby(['av_saude', 'Q124']).size().unstack()\n",
    "\n",
    "total_por_valor = distribuicao.sum(axis=1)\n",
    "\n",
    "porcentagem_sim = (distribuicao[1] / total_por_valor) * 100\n",
    "porcentagem_nao = (distribuicao[2] / total_por_valor) * 100\n",
    "\n",
    "plt.figure(figsize=(10, 6))\n",
    "plt.bar(porcentagem_sim.index, porcentagem_sim, color='b', alpha=0.5, label=1)\n",
    "plt.bar(porcentagem_nao.index, porcentagem_nao, color='r', alpha=0.5, bottom=porcentagem_sim, label=2)\n",
    "plt.xlabel('av_saude')\n",
    "plt.ylabel('Porcentagem (%)')\n",
    "plt.title('Distribuição de \"sim\"[1] e \"não\"[2] em relação ao atributo \"{}\"'.format('av_saude'))\n",
    "plt.legend()\n",
    "\n",
    "plt.xlabel('Valores de {}'.format('av_saude'))\n",
    "plt.ylabel('Porcentagem de Classes')\n",
    "\n",
    "plt.show()"
   ]
  },
  {
   "cell_type": "markdown",
   "id": "c337cfcb-59be-46e7-95fc-14451183cd98",
   "metadata": {},
   "source": [
    "# DECISÃO: JUNTAR 4,5 E MANTER RESTANTES"
   ]
  },
  {
   "cell_type": "code",
   "execution_count": 85,
   "id": "372be1f9-098f-49f2-b0ae-64d656476892",
   "metadata": {
    "tags": []
   },
   "outputs": [
    {
     "data": {
      "image/png": "[encoded data removed]",
      "text/plain": [
       "<Figure size 1000x600 with 1 Axes>"
      ]
     },
     "metadata": {},
     "output_type": "display_data"
    }
   ],
   "source": [
    "atributo_X = 'agua_usada'  # ENTROPIA 0.744\n",
    "\n",
    "distribuicao = data.groupby(['agua_usada', 'Q124']).size().unstack()\n",
    "\n",
    "total_por_valor = distribuicao.sum(axis=1)\n",
    "\n",
    "porcentagem_sim = (distribuicao[1] / total_por_valor) * 100\n",
    "porcentagem_nao = (distribuicao[2] / total_por_valor) * 100\n",
    "\n",
    "plt.figure(figsize=(10, 6))\n",
    "plt.bar(porcentagem_sim.index, porcentagem_sim, color='b', alpha=0.5, label=1)\n",
    "plt.bar(porcentagem_nao.index, porcentagem_nao, color='r', alpha=0.5, bottom=porcentagem_sim, label=2)\n",
    "plt.xlabel('agua_usada')\n",
    "plt.ylabel('Porcentagem (%)')\n",
    "plt.title('Distribuição de \"sim\"[1] e \"não\"[2] em relação ao atributo \"{}\"'.format('agua_usada'))\n",
    "plt.legend()\n",
    "\n",
    "plt.xlabel('Valores de {}'.format('agua_usada'))\n",
    "plt.ylabel('Porcentagem de Classes')\n",
    "\n",
    "plt.show()"
   ]
  },
  {
   "cell_type": "markdown",
   "id": "6c97d502-181d-4e02-96e3-1aecffbbbdbb",
   "metadata": {},
   "source": [
    "# DECISÃO: JUNTAR 1,2 E MANTER RESTANTE"
   ]
  },
  {
   "cell_type": "code",
   "execution_count": 86,
   "id": "fa0cd820-6e0f-4a91-9dd6-916f14cf17ac",
   "metadata": {
    "tags": []
   },
   "outputs": [
    {
     "data": {
      "image/png": "[encoded data removed]",
      "text/plain": [
       "<Figure size 1000x600 with 1 Axes>"
      ]
     },
     "metadata": {},
     "output_type": "display_data"
    }
   ],
   "source": [
    "atributo_X = 'abast_agua'  # ENTROPIA 0.732\n",
    "\n",
    "distribuicao = data.groupby(['abast_agua', 'Q124']).size().unstack()\n",
    "\n",
    "total_por_valor = distribuicao.sum(axis=1)\n",
    "\n",
    "porcentagem_sim = (distribuicao[1] / total_por_valor) * 100\n",
    "porcentagem_nao = (distribuicao[2] / total_por_valor) * 100\n",
    "\n",
    "plt.figure(figsize=(10, 6))\n",
    "plt.bar(porcentagem_sim.index, porcentagem_sim, color='b', alpha=0.5, label=1)\n",
    "plt.bar(porcentagem_nao.index, porcentagem_nao, color='r', alpha=0.5, bottom=porcentagem_sim, label=2)\n",
    "plt.xlabel('abast_agua')\n",
    "plt.ylabel('Porcentagem (%)')\n",
    "plt.title('Distribuição de \"sim\"[1] e \"não\"[2] em relação ao atributo \"{}\"'.format('abast_agua'))\n",
    "plt.legend()\n",
    "\n",
    "plt.xlabel('Valores de {}'.format('abast_agua'))\n",
    "plt.ylabel('Porcentagem de Classes')\n",
    "\n",
    "plt.show()"
   ]
  },
  {
   "cell_type": "markdown",
   "id": "b185b12e-4866-4269-926a-6e29c5d4b776",
   "metadata": {},
   "source": [
    "# DECISÃO: MANTER"
   ]
  },
  {
   "cell_type": "code",
   "execution_count": 87,
   "id": "db02f14f-2ef4-458e-b272-58b0573f87c0",
   "metadata": {
    "tags": []
   },
   "outputs": [
    {
     "data": {
      "image/png": "[encoded data removed]",
      "text/plain": [
       "<Figure size 1000x600 with 1 Axes>"
      ]
     },
     "metadata": {},
     "output_type": "display_data"
    }
   ],
   "source": [
    "atributo_X = 'tipo_cidade'  # ENTROPIA 0.712\n",
    "\n",
    "distribuicao = data.groupby(['tipo_cidade', 'Q124']).size().unstack()\n",
    "\n",
    "total_por_valor = distribuicao.sum(axis=1)\n",
    "\n",
    "porcentagem_sim = (distribuicao[1] / total_por_valor) * 100\n",
    "porcentagem_nao = (distribuicao[2] / total_por_valor) * 100\n",
    "\n",
    "plt.figure(figsize=(10, 6))\n",
    "plt.bar(porcentagem_sim.index, porcentagem_sim, color='b', alpha=0.5, label=1)\n",
    "plt.bar(porcentagem_nao.index, porcentagem_nao, color='r', alpha=0.5, bottom=porcentagem_sim, label=2)\n",
    "plt.xlabel('tipo_cidade')\n",
    "plt.ylabel('Porcentagem (%)')\n",
    "plt.title('Distribuição de \"sim\"[1] e \"não\"[2] em relação ao atributo \"{}\"'.format('tipo_cidade'))\n",
    "plt.legend()\n",
    "\n",
    "plt.xlabel('Valores de {}'.format('tipo_cidade'))\n",
    "plt.ylabel('Porcentagem de Classes')\n",
    "\n",
    "plt.show()"
   ]
  },
  {
   "cell_type": "markdown",
   "id": "138a54f6-86f5-4f73-b2e8-d73d0d171670",
   "metadata": {},
   "source": [
    "# DECISÃO: JUNTAR 2,3 E MANTER 1,4"
   ]
  },
  {
   "cell_type": "code",
   "execution_count": null,
   "id": "cf3e89c9-e730-4ebc-b3e3-e3d9e5192eeb",
   "metadata": {},
   "outputs": [],
   "source": []
  }
 ],
 "metadata": {
  "kernelspec": {
   "display_name": "Python 3 (ipykernel)",
   "language": "python",
   "name": "python3"
  },
  "language_info": {
   "codemirror_mode": {
    "name": "ipython",
    "version": 3
   },
   "file_extension": ".py",
   "mimetype": "text/x-python",
   "name": "python",
   "nbconvert_exporter": "python",
   "pygments_lexer": "ipython3",
   "version": "3.11.5"
  }
 },
 "nbformat": 4,
 "nbformat_minor": 5
}
